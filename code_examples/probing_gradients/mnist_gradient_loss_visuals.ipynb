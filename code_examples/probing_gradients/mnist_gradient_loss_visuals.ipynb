{
 "cells": [
  {
   "cell_type": "markdown",
   "id": "691f81a5",
   "metadata": {},
   "source": [
    "# Trajectory Code"
   ]
  },
  {
   "cell_type": "code",
   "execution_count": 4,
   "id": "d8b480bb",
   "metadata": {},
   "outputs": [],
   "source": [
    "from typing import List, Optional, Tuple\n",
    "import torch\n",
    "import torch.nn as nn\n",
    "import torch.nn.functional as F\n",
    "from torch.utils.data import DataLoader, Subset\n",
    "import torchvision\n",
    "import torchvision.transforms as transforms\n",
    "import numpy as np\n",
    "import plotly.graph_objects as go\n",
    "\n",
    "# Set seed\n",
    "torch.manual_seed(42)\n",
    "np.random.seed(42)\n",
    "\n",
    "class SimpleNet(nn.Module):\n",
    "    \"\"\"Simple fully-connected neural network for MNIST classification.\n",
    "    \n",
    "    A basic 2-layer neural network with one hidden layer and ReLU activation.\n",
    "    Suitable for small-scale loss landscape visualization experiments.\n",
    "    \n",
    "    Attributes:\n",
    "        fc1 (nn.Linear): First fully-connected layer (784 -> hidden_dim).\n",
    "        fc2 (nn.Linear): Second fully-connected layer (hidden_dim -> 10).\n",
    "    \"\"\"\n",
    "    \n",
    "    def __init__(self, hidden_dim: int = 20):\n",
    "        \"\"\"Initializes the SimpleNet with specified hidden dimension.\n",
    "        \n",
    "        Args:\n",
    "            hidden_dim (int): Number of neurons in the hidden layer. Default is 20.\n",
    "        \"\"\"\n",
    "        super(SimpleNet, self).__init__()\n",
    "        self.fc1 = nn.Linear(784, hidden_dim)\n",
    "        self.fc2 = nn.Linear(hidden_dim, 10)\n",
    "    \n",
    "    def forward(self, x: torch.Tensor) -> torch.Tensor:\n",
    "        \"\"\"Forward pass through the network.\n",
    "        \n",
    "        Args:\n",
    "            x (torch.Tensor): Input tensor of shape (batch_size, 1, 28, 28) or \n",
    "                             (batch_size, 784).\n",
    "        \n",
    "        Returns:\n",
    "            torch.Tensor: Output logits of shape (batch_size, 10).\n",
    "        \"\"\"\n",
    "        x = x.view(-1, 784)\n",
    "        x = F.relu(self.fc1(x))\n",
    "        return self.fc2(x)\n",
    "\n",
    "def load_mnist(train_samples: int = 1000, batch_size: int = 64) -> DataLoader:\n",
    "    \"\"\"Loads a subset of MNIST dataset for training.\n",
    "    \n",
    "    Creates a DataLoader for a subset of the MNIST training set with standard\n",
    "    normalization applied. Useful for quick experiments and visualizations.\n",
    "    \n",
    "    Args:\n",
    "        train_samples (int): Number of training samples to use from MNIST.\n",
    "                           Default is 1000. Must be <= 60000.\n",
    "        batch_size (int): Batch size for the DataLoader. Default is 64.\n",
    "    \n",
    "    Returns:\n",
    "        DataLoader: PyTorch DataLoader containing the MNIST subset.\n",
    "    \n",
    "    Raises:\n",
    "        ValueError: If train_samples > 60000 or batch_size <= 0.\n",
    "    \n",
    "    Example:\n",
    "        >>> train_loader = load_mnist(train_samples=5000, batch_size=128)\n",
    "        >>> for batch_idx, (data, target) in enumerate(train_loader):\n",
    "        ...     print(f\"Batch {batch_idx}: data shape {data.shape}\")\n",
    "    \"\"\"\n",
    "    if train_samples > 60000:\n",
    "        raise ValueError(\"train_samples cannot exceed 60000 (MNIST training set size)\")\n",
    "    if batch_size <= 0:\n",
    "        raise ValueError(\"batch_size must be positive\")\n",
    "    \n",
    "    transform = transforms.Compose([\n",
    "        transforms.ToTensor(),\n",
    "        transforms.Normalize((0.1307,), (0.3081,))  # MNIST mean and std\n",
    "    ])\n",
    "    \n",
    "    train_dataset = torchvision.datasets.MNIST(\n",
    "        root='./data', \n",
    "        train=True, \n",
    "        download=True, \n",
    "        transform=transform\n",
    "    )\n",
    "    \n",
    "    train_subset = Subset(train_dataset, range(train_samples))\n",
    "    train_loader = DataLoader(\n",
    "        train_subset, \n",
    "        batch_size=batch_size, \n",
    "        shuffle=True\n",
    "    )\n",
    "    \n",
    "    return train_loader\n",
    "\n",
    "\n",
    "def filter_normalize(direction: torch.Tensor, \n",
    "                    model: nn.Module, \n",
    "                    params_at_point: Optional[torch.Tensor] = None) -> torch.Tensor:\n",
    "    \"\"\"Applies filter normalization to a direction vector.\n",
    "    \n",
    "    Implements the filter normalization technique from Li et al. 2018, which\n",
    "    normalizes each filter (row in weight matrices) independently to respect\n",
    "    the scale of network layers. This enables meaningful comparisons between\n",
    "    loss landscapes of different architectures.\n",
    "    \n",
    "    Args:\n",
    "        direction (torch.Tensor): Direction vector in parameter space to normalize.\n",
    "                                 Must have same dimension as model parameters.\n",
    "        model (nn.Module): Neural network model providing parameter structure.\n",
    "        params_at_point (torch.Tensor, optional): Reference parameters for normalization.\n",
    "                                                  If None, uses current model parameters.\n",
    "                                                  Default is None.\n",
    "    \n",
    "    Returns:\n",
    "        torch.Tensor: Filter-normalized direction vector with same shape as input.\n",
    "    \n",
    "    Raises:\n",
    "        ValueError: If direction dimension doesn't match model parameter count.\n",
    "    \n",
    "    Note:\n",
    "        Filter normalization formula: d_ij <- (d_ij / ||d_ij||) * ||θ_ij||\n",
    "        where d_ij is the j-th filter of i-th layer in direction d,\n",
    "        and θ_ij is the corresponding filter in the parameter vector.\n",
    "    \n",
    "    Example:\n",
    "        >>> model = SimpleNet(hidden_dim=20)\n",
    "        >>> direction = torch.randn(sum(p.numel() for p in model.parameters()))\n",
    "        >>> normalized_dir = filter_normalize(direction, model)\n",
    "    \"\"\"\n",
    "    if params_at_point is None:\n",
    "        # Use current model parameters\n",
    "        params_at_point = torch.cat([p.data.view(-1) for p in model.parameters()])\n",
    "    \n",
    "    total_params = sum(p.numel() for p in model.parameters())\n",
    "    if direction.numel() != total_params:\n",
    "        raise ValueError(f\"Direction size {direction.numel()} doesn't match \"\n",
    "                        f\"model parameters {total_params}\")\n",
    "    \n",
    "    normalized_direction = []\n",
    "    idx = 0\n",
    "    \n",
    "    # Iterate through model parameters to get shapes\n",
    "    for param in model.parameters():\n",
    "        param_size = param.numel()\n",
    "        param_shape = param.shape\n",
    "        \n",
    "        # Extract the portion of direction vector for this parameter\n",
    "        dir_param = direction[idx:idx+param_size].view(param_shape)\n",
    "        \n",
    "        # Extract corresponding weights from params_at_point\n",
    "        weight_param = params_at_point[idx:idx+param_size].view(param_shape)\n",
    "        \n",
    "        if len(param_shape) >= 2:  # Weight matrix (FC or Conv layer)\n",
    "            # For FC layers: each row is a filter (one per output neuron)\n",
    "            for i in range(param_shape[0]):\n",
    "                filter_dir = dir_param[i]\n",
    "                filter_weight = weight_param[i]\n",
    "                \n",
    "                # Compute norms\n",
    "                dir_norm = filter_dir.norm()\n",
    "                weight_norm = filter_weight.norm()\n",
    "                \n",
    "                # Apply filter normalization\n",
    "                if dir_norm > 0:\n",
    "                    dir_param[i] = filter_dir * (weight_norm / dir_norm)\n",
    "            \n",
    "            normalized_direction.append(dir_param.view(-1))\n",
    "        else:\n",
    "            # Bias vector - no normalization needed\n",
    "            normalized_direction.append(dir_param.view(-1))\n",
    "        \n",
    "        idx += param_size\n",
    "    \n",
    "    return torch.cat(normalized_direction)\n",
    "\n",
    "\n",
    "def train_and_record(model: nn.Module,\n",
    "                    train_loader: DataLoader,\n",
    "                    epochs: int = 30,\n",
    "                    lr: float = 0.01,\n",
    "                    use_filter_norm: bool = True) -> Tuple[List[List[float]], \n",
    "                                                           List[float], \n",
    "                                                           torch.Tensor, \n",
    "                                                           torch.Tensor, \n",
    "                                                           torch.Tensor]:\n",
    "    \"\"\"Trains model and records parameter trajectory for visualization.\n",
    "    \n",
    "    Trains a neural network while recording the parameter trajectory at each epoch.\n",
    "    Uses PCA to find the two principal directions of parameter change, optionally\n",
    "    applying filter normalization for scale-invariant visualization.\n",
    "    \n",
    "    Args:\n",
    "        model (nn.Module): Neural network model to train.\n",
    "        train_loader (DataLoader): DataLoader containing training data.\n",
    "        epochs (int): Number of training epochs. Default is 30.\n",
    "        lr (float): Learning rate for SGD optimizer. Default is 0.01.\n",
    "        use_filter_norm (bool): Whether to apply filter normalization to PCA directions.\n",
    "                               Default is True.\n",
    "    \n",
    "    Returns:\n",
    "        Tuple containing:\n",
    "            - trajectory_2d (List[List[float]]): 2D trajectory points projected onto\n",
    "                                                 PCA directions, shape (epochs, 2).\n",
    "            - losses (List[float]): Average loss value at each epoch.\n",
    "            - direction1 (torch.Tensor): First principal component direction\n",
    "                                        (possibly filter-normalized).\n",
    "            - direction2 (torch.Tensor): Second principal component direction\n",
    "                                        (possibly filter-normalized and orthogonalized).\n",
    "            - initial_params (torch.Tensor): Initial parameter values before training.\n",
    "    \n",
    "    Note:\n",
    "        The trajectory is projected onto a 2D subspace defined by the top 2\n",
    "        principal components of the parameter changes during training.\n",
    "    \n",
    "    Example:\n",
    "        >>> model = SimpleNet(hidden_dim=20)\n",
    "        >>> train_loader = load_mnist(train_samples=1000)\n",
    "        >>> trajectory_2d, losses, dir1, dir2, init_params = train_and_record(\n",
    "        ...     model, train_loader, epochs=50, lr=0.1, use_filter_norm=True\n",
    "        ... )\n",
    "        >>> print(f\"Final loss: {losses[-1]:.4f}\")\n",
    "    \"\"\"\n",
    "    device = torch.device('cuda' if torch.cuda.is_available() else 'cpu')\n",
    "    model = model.to(device)\n",
    "    \n",
    "    criterion = nn.CrossEntropyLoss()\n",
    "    optimizer = torch.optim.SGD(model.parameters(), lr=lr)\n",
    "    \n",
    "    # Helper to get all parameters as single vector\n",
    "    def get_params() -> torch.Tensor:\n",
    "        \"\"\"Extracts all model parameters as a single flattened vector.\"\"\"\n",
    "        return torch.cat([p.data.view(-1) for p in model.parameters()])\n",
    "    \n",
    "    # Record trajectory\n",
    "    initial_params = get_params().clone()\n",
    "    param_trajectory = [initial_params.clone()]\n",
    "    losses = []\n",
    "    \n",
    "    print(f\"Training (filter_norm={use_filter_norm})...\")\n",
    "    for epoch in range(epochs):\n",
    "        epoch_loss = 0.0\n",
    "        for data, target in train_loader:\n",
    "            data, target = data.to(device), target.to(device)\n",
    "            \n",
    "            optimizer.zero_grad()\n",
    "            output = model(data)\n",
    "            loss = criterion(output, target)\n",
    "            loss.backward()\n",
    "            optimizer.step()\n",
    "            epoch_loss += loss.item()\n",
    "        \n",
    "        param_trajectory.append(get_params().clone())\n",
    "        avg_loss = epoch_loss / len(train_loader)\n",
    "        losses.append(avg_loss)\n",
    "        \n",
    "        if epoch % 10 == 0:\n",
    "            print(f\"Epoch {epoch}: Loss = {avg_loss:.4f}\")\n",
    "    \n",
    "    # Get PCA directions for projection\n",
    "    param_changes = torch.stack([p - initial_params for p in param_trajectory[1:]])\n",
    "    U, S, V = torch.svd(param_changes.t())\n",
    "    direction1 = U[:, 0]\n",
    "    direction2 = U[:, 1] if U.shape[1] > 1 else torch.randn_like(direction1)\n",
    "    \n",
    "    # Apply filter normalization if requested\n",
    "    if use_filter_norm:\n",
    "        print(\"Applying filter normalization to PCA directions...\")\n",
    "        # Use initial params as the reference point for normalization\n",
    "        direction1 = filter_normalize(direction1, model, initial_params)\n",
    "        direction2 = filter_normalize(direction2, model, initial_params)\n",
    "    \n",
    "    # Ensure orthogonality after normalization\n",
    "    direction2 = direction2 - direction1.dot(direction2) * direction1 / direction1.dot(direction1)\n",
    "    \n",
    "    # Re-normalize direction2 if filter norm is on\n",
    "    if use_filter_norm:\n",
    "        direction2 = filter_normalize(direction2, model, initial_params)\n",
    "    else:\n",
    "        direction2 = direction2 / direction2.norm()\n",
    "    \n",
    "    # Project trajectory to 2D\n",
    "    trajectory_2d = []\n",
    "    for params in param_trajectory[1:]:  # Skip initial (it's at origin)\n",
    "        diff = params - initial_params\n",
    "        alpha = diff.dot(direction1).item()\n",
    "        beta = diff.dot(direction2).item()\n",
    "        trajectory_2d.append([alpha, beta])\n",
    "    \n",
    "    return trajectory_2d, losses, direction1, direction2, initial_params\n",
    "\n",
    "\n",
    "def compute_landscape(model: nn.Module,\n",
    "                     train_loader: DataLoader,\n",
    "                     initial_params: torch.Tensor,\n",
    "                     direction1: torch.Tensor,\n",
    "                     direction2: torch.Tensor,\n",
    "                     trajectory_2d: List[List[float]],\n",
    "                     resolution: int = 40) -> Tuple[np.ndarray, np.ndarray, np.ndarray]:\n",
    "    \"\"\"Computes loss landscape on a 2D grid defined by two directions.\n",
    "    \n",
    "    Evaluates the loss function at grid points in a 2D subspace of the parameter\n",
    "    space, defined by two direction vectors. The grid scale is automatically\n",
    "    determined from the trajectory extent.\n",
    "    \n",
    "    Args:\n",
    "        model (nn.Module): Neural network model for loss evaluation.\n",
    "        train_loader (DataLoader): DataLoader containing data for loss computation.\n",
    "        initial_params (torch.Tensor): Center point of the grid in parameter space.\n",
    "        direction1 (torch.Tensor): First direction vector defining the grid.\n",
    "        direction2 (torch.Tensor): Second direction vector defining the grid.\n",
    "        trajectory_2d (List[List[float]]): 2D trajectory points used to determine\n",
    "                                          grid scale.\n",
    "        resolution (int): Number of grid points along each axis. Default is 40.\n",
    "                         Total evaluations will be resolution^2.\n",
    "    \n",
    "    Returns:\n",
    "        Tuple containing:\n",
    "            - Alpha (np.ndarray): Meshgrid x-coordinates, shape (resolution, resolution).\n",
    "            - Beta (np.ndarray): Meshgrid y-coordinates, shape (resolution, resolution).\n",
    "            - Loss_surface (np.ndarray): Loss values at each grid point,\n",
    "                                        shape (resolution, resolution).\n",
    "    \n",
    "    Note:\n",
    "        For computational efficiency, only the first 5 batches are used for\n",
    "        loss evaluation at each grid point.\n",
    "    \n",
    "    Example:\n",
    "        >>> Alpha, Beta, Loss_surface = compute_landscape(\n",
    "        ...     model, train_loader, init_params, dir1, dir2, trajectory_2d,\n",
    "        ...     resolution=50\n",
    "        ... )\n",
    "        >>> print(f\"Loss range: [{Loss_surface.min():.2f}, {Loss_surface.max():.2f}]\")\n",
    "    \"\"\"\n",
    "    device = torch.device('cuda' if torch.cuda.is_available() else 'cpu')\n",
    "    model = model.to(device)\n",
    "    criterion = nn.CrossEntropyLoss()\n",
    "    \n",
    "    def set_params(params: torch.Tensor) -> None:\n",
    "        \"\"\"Sets model parameters from a flattened parameter vector.\n",
    "        \n",
    "        Args:\n",
    "            params (torch.Tensor): Flattened parameter vector to set.\n",
    "        \"\"\"\n",
    "        idx = 0\n",
    "        for p in model.parameters():\n",
    "            size = p.numel()\n",
    "            p.data = params[idx:idx+size].view_as(p)\n",
    "            idx += size\n",
    "    \n",
    "    # Get scale from trajectory\n",
    "    alphas = [t[0] for t in trajectory_2d]\n",
    "    betas = [t[1] for t in trajectory_2d]\n",
    "    \n",
    "    # Determine grid scale based on trajectory extent\n",
    "    if alphas and betas:\n",
    "        scale = max(abs(min(alphas)), abs(max(alphas)), \n",
    "                   abs(min(betas)), abs(max(betas)), 0.1) * 1.5\n",
    "    else:\n",
    "        scale = 1.0  # Default scale if no trajectory\n",
    "    \n",
    "    # Create grid\n",
    "    alpha_range = np.linspace(-scale, scale, resolution)\n",
    "    beta_range = np.linspace(-scale, scale, resolution)\n",
    "    Alpha, Beta = np.meshgrid(alpha_range, beta_range)\n",
    "    Loss_surface = np.zeros_like(Alpha)\n",
    "    \n",
    "    print(f\"Computing landscape ({resolution}x{resolution})...\")\n",
    "    print(f\"Grid scale: ±{scale:.3f}\")\n",
    "    \n",
    "    # Compute loss at each point\n",
    "    for i in range(resolution):\n",
    "        if i % 10 == 0:\n",
    "            print(f\"  Progress: {i}/{resolution}\")\n",
    "        for j in range(resolution):\n",
    "            # Set parameters to this point\n",
    "            test_params = initial_params + alpha_range[i] * direction1 + beta_range[j] * direction2\n",
    "            set_params(test_params)\n",
    "            \n",
    "            # Compute loss (on subset for speed)\n",
    "            total_loss = 0.0\n",
    "            count = 0\n",
    "            with torch.no_grad():\n",
    "                for batch_idx, (data, target) in enumerate(train_loader):\n",
    "                    if batch_idx >= 5:  # Use only first 5 batches for efficiency\n",
    "                        break\n",
    "                    data, target = data.to(device), target.to(device)\n",
    "                    output = model(data)\n",
    "                    loss = criterion(output, target)\n",
    "                    total_loss += loss.item()\n",
    "                    count += 1\n",
    "            \n",
    "            Loss_surface[j, i] = total_loss / count if count > 0 else float('inf')\n",
    "    \n",
    "    # Restore original parameters\n",
    "    set_params(initial_params)\n",
    "    \n",
    "    return Alpha, Beta, Loss_surface\n",
    "\n",
    "\n",
    "def create_3d_plot(Alpha: np.ndarray,\n",
    "                  Beta: np.ndarray,\n",
    "                  Loss_surface: np.ndarray,\n",
    "                  trajectory_2d: List[List[float]]) -> go.Figure:\n",
    "    \"\"\"Creates interactive 3D visualization of loss landscape with trajectory.\n",
    "    \n",
    "    Generates a Plotly 3D surface plot of the loss landscape with the training\n",
    "    trajectory overlaid. The trajectory z-values are interpolated from the\n",
    "    computed loss surface for consistency.\n",
    "    \n",
    "    Args:\n",
    "        Alpha (np.ndarray): Meshgrid x-coordinates from compute_landscape,\n",
    "                          shape (resolution, resolution).\n",
    "        Beta (np.ndarray): Meshgrid y-coordinates from compute_landscape,\n",
    "                         shape (resolution, resolution).\n",
    "        Loss_surface (np.ndarray): Loss values at each grid point,\n",
    "                                  shape (resolution, resolution).\n",
    "        trajectory_2d (List[List[float]]): 2D trajectory points in the PCA subspace,\n",
    "                                          each point is [alpha, beta].\n",
    "    \n",
    "    Returns:\n",
    "        go.Figure: Plotly figure object containing the 3D visualization.\n",
    "                  Can be displayed with fig.show() or saved with fig.write_html().\n",
    "    \n",
    "    Note:\n",
    "        The trajectory z-values are interpolated from the loss surface rather than\n",
    "        using the training losses directly to ensure visual consistency.\n",
    "    \n",
    "    Example:\n",
    "        >>> fig = create_3d_plot(Alpha, Beta, Loss_surface, trajectory_2d, losses)\n",
    "        >>> fig.show()  # Display interactive plot\n",
    "        >>> fig.write_html(\"loss_landscape.html\")  # Save as HTML\n",
    "    \"\"\"\n",
    "    fig = go.Figure()\n",
    "    \n",
    "    # Add loss surface\n",
    "    fig.add_trace(go.Surface(\n",
    "        x=Alpha,\n",
    "        y=Beta,\n",
    "        z=Loss_surface,\n",
    "        colorscale='Viridis',\n",
    "        opacity=0.9,\n",
    "        contours={\n",
    "            \"z\": {\n",
    "                \"show\": True,\n",
    "                \"usecolormap\": True,\n",
    "                \"project\": {\"z\": True},\n",
    "                \"width\": 2,\n",
    "                \"highlight\": True\n",
    "            }\n",
    "        },\n",
    "        name='Loss Surface',\n",
    "        showscale=True,\n",
    "        colorbar=dict(\n",
    "            title=\"Loss\",\n",
    "            tickmode=\"linear\",\n",
    "            tick0=0,\n",
    "            dtick=0.5\n",
    "        )\n",
    "    ))\n",
    "    \n",
    "    # Extract trajectory coordinates\n",
    "    x_traj = [t[0] for t in trajectory_2d]\n",
    "    y_traj = [t[1] for t in trajectory_2d]\n",
    "    z_traj = []\n",
    "    \n",
    "    # Interpolate z-values from the loss surface\n",
    "    for x, y in zip(x_traj, y_traj):\n",
    "        # Find nearest grid point\n",
    "        i = np.argmin(np.abs(Alpha[0, :] - x))\n",
    "        j = np.argmin(np.abs(Beta[:, 0] - y))\n",
    "        z_traj.append(Loss_surface[j, i])\n",
    "    \n",
    "    # Add training trajectory\n",
    "    if x_traj and y_traj and z_traj:\n",
    "        fig.add_trace(go.Scatter3d(\n",
    "            x=x_traj,\n",
    "            y=y_traj,\n",
    "            z=z_traj,\n",
    "            mode='lines+markers',\n",
    "            line=dict(\n",
    "                color='red',\n",
    "                width=6\n",
    "            ),\n",
    "            marker=dict(\n",
    "                size=4,\n",
    "                color='red',\n",
    "                symbol='circle'\n",
    "            ),\n",
    "            name='Training Path'\n",
    "        ))\n",
    "        \n",
    "        # Mark start and end points\n",
    "        fig.add_trace(go.Scatter3d(\n",
    "            x=[x_traj[0]],\n",
    "            y=[y_traj[0]],\n",
    "            z=[z_traj[0]],\n",
    "            mode='markers',\n",
    "            marker=dict(\n",
    "                size=10,\n",
    "                color='green',\n",
    "                symbol='diamond'\n",
    "            ),\n",
    "            name='Start',\n",
    "            showlegend=True\n",
    "        ))\n",
    "        \n",
    "        fig.add_trace(go.Scatter3d(\n",
    "            x=[x_traj[-1]],\n",
    "            y=[y_traj[-1]],\n",
    "            z=[z_traj[-1]],\n",
    "            mode='markers',\n",
    "            marker=dict(\n",
    "                size=10,\n",
    "                color='blue',\n",
    "                symbol='square'\n",
    "            ),\n",
    "            name='End',\n",
    "            showlegend=True\n",
    "        ))\n",
    "    \n",
    "    # Update layout\n",
    "    fig.update_layout(\n",
    "        title={\n",
    "            'text': \"Loss Landscape with Training Trajectory\",\n",
    "            'x': 0.5,\n",
    "            'xanchor': 'center'\n",
    "        },\n",
    "        scene=dict(\n",
    "            xaxis=dict(\n",
    "                title=\"PC1 Direction\",\n",
    "                showbackground=True,\n",
    "                backgroundcolor=\"rgb(230, 230,230)\"\n",
    "            ),\n",
    "            yaxis=dict(\n",
    "                title=\"PC2 Direction\",\n",
    "                showbackground=True,\n",
    "                backgroundcolor=\"rgb(230, 230,230)\"\n",
    "            ),\n",
    "            zaxis=dict(\n",
    "                title=\"Loss\",\n",
    "                showbackground=True,\n",
    "                backgroundcolor=\"rgb(230, 230,230)\"\n",
    "            ),\n",
    "            camera=dict(\n",
    "                eye=dict(x=1.5, y=1.5, z=1.3)\n",
    "            )\n",
    "        ),\n",
    "        showlegend=True,\n",
    "        legend=dict(\n",
    "            x=0.02,\n",
    "            y=0.98,\n",
    "            bgcolor=\"rgba(255, 255, 255, 0.8)\",\n",
    "            bordercolor=\"Black\",\n",
    "            borderwidth=1\n",
    "        ),\n",
    "        height=700,\n",
    "        width=900\n",
    "    )\n",
    "    \n",
    "    return fig"
   ]
  },
  {
   "cell_type": "code",
   "execution_count": 6,
   "id": "4f16aef8",
   "metadata": {},
   "outputs": [
    {
     "name": "stdout",
     "output_type": "stream",
     "text": [
      "Loading MNIST...\n",
      "Training (filter_norm=False)...\n",
      "Epoch 0: Loss = 2.1873\n",
      "Epoch 10: Loss = 0.6790\n",
      "Epoch 20: Loss = 0.4249\n",
      "Computing landscape (50x50)...\n",
      "Grid scale: ±3.477\n",
      "  Progress: 0/50\n",
      "  Progress: 10/50\n",
      "  Progress: 20/50\n",
      "  Progress: 30/50\n",
      "  Progress: 40/50\n"
     ]
    },
    {
     "data": {
      "application/vnd.plotly.v1+json": {
       "config": {
        "plotlyServerURL": "https://plot.ly"
       },
       "data": [
        {
         "colorbar": {
          "dtick": 0.5,
          "tick0": 0,
          "tickmode": "linear",
          "title": {
           "text": "Loss"
          }
         },
         "colorscale": [
          [
           0,
           "#440154"
          ],
          [
           0.1111111111111111,
           "#482878"
          ],
          [
           0.2222222222222222,
           "#3e4989"
          ],
          [
           0.3333333333333333,
           "#31688e"
          ],
          [
           0.4444444444444444,
           "#26828e"
          ],
          [
           0.5555555555555556,
           "#1f9e89"
          ],
          [
           0.6666666666666666,
           "#35b779"
          ],
          [
           0.7777777777777778,
           "#6ece58"
          ],
          [
           0.8888888888888888,
           "#b5de2b"
          ],
          [
           1,
           "#fde725"
          ]
         ],
         "contours": {
          "z": {
           "highlight": true,
           "project": {
            "z": true
           },
           "show": true,
           "usecolormap": true,
           "width": 2
          }
         },
         "name": "Loss Surface",
         "opacity": 0.9,
         "showscale": true,
         "type": "surface",
         "x": {
          "bdata": "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",
          "dtype": "f8",
          "shape": "50, 50"
         },
         "y": {
          "bdata": "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",
          "dtype": "f8",
          "shape": "50, 50"
         },
         "z": {
          "bdata": "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",
          "dtype": "f8",
          "shape": "50, 50"
         }
        },
        {
         "line": {
          "color": "red",
          "width": 6
         },
         "marker": {
          "color": "red",
          "size": 4,
          "symbol": "circle"
         },
         "mode": "lines+markers",
         "name": "Training Path",
         "type": "scatter3d",
         "x": [
          0.14038512110710144,
          0.30075404047966003,
          0.4654999375343323,
          0.6388474106788635,
          0.8089770078659058,
          0.9631829261779785,
          1.100470781326294,
          1.220745325088501,
          1.3261849880218506,
          1.4198989868164062,
          1.5046474933624268,
          1.5809526443481445,
          1.6504486799240112,
          1.7135741710662842,
          1.7716090679168701,
          1.8252373933792114,
          1.8753910064697266,
          1.9220027923583984,
          1.9662162065505981,
          2.0074520111083984,
          2.045543670654297,
          2.0823822021484375,
          2.1170573234558105,
          2.150369167327881,
          2.181893825531006,
          2.211538314819336,
          2.2404825687408447,
          2.2672266960144043,
          2.293569326400757,
          2.3182175159454346
         ],
         "y": [
          -0.0922691747546196,
          -0.17406851053237915,
          -0.23616231977939606,
          -0.2757035493850708,
          -0.29426640272140503,
          -0.2963045835494995,
          -0.2886267900466919,
          -0.27294304966926575,
          -0.252849280834198,
          -0.22952082753181458,
          -0.20531755685806274,
          -0.1792410910129547,
          -0.15206187963485718,
          -0.1251421868801117,
          -0.09746316820383072,
          -0.0700044110417366,
          -0.04295196011662483,
          -0.016898781061172485,
          0.008651744574308395,
          0.03370821103453636,
          0.058567799627780914,
          0.0823885053396225,
          0.10611128807067871,
          0.1285012811422348,
          0.15091830492019653,
          0.17345920205116272,
          0.1940954625606537,
          0.21604563295841217,
          0.2373155802488327,
          0.2584499716758728
         ],
         "z": [
          2.160546875,
          1.7574769020080567,
          1.5622020006179809,
          1.3679651737213134,
          1.191088652610779,
          1.0753225088119507,
          0.961298942565918,
          0.7995588779449463,
          0.7316948652267456,
          0.6976099252700806,
          0.6976099252700806,
          0.5784896671772003,
          0.5784896671772003,
          0.4444276750087738,
          0.4444276750087738,
          0.4444276750087738,
          0.452033656835556,
          0.452033656835556,
          0.42435780763626096,
          0.36695356965065,
          0.36695356965065,
          0.36695356965065,
          0.36695356965065,
          0.4518295228481293,
          0.3462632030248642,
          0.3462632030248642,
          0.3462632030248642,
          0.3462632030248642,
          0.3205681413412094,
          0.3205681413412094
         ]
        },
        {
         "marker": {
          "color": "green",
          "size": 10,
          "symbol": "diamond"
         },
         "mode": "markers",
         "name": "Start",
         "showlegend": true,
         "type": "scatter3d",
         "x": [
          0.14038512110710144
         ],
         "y": [
          -0.0922691747546196
         ],
         "z": [
          2.160546875
         ]
        },
        {
         "marker": {
          "color": "blue",
          "size": 10,
          "symbol": "square"
         },
         "mode": "markers",
         "name": "End",
         "showlegend": true,
         "type": "scatter3d",
         "x": [
          2.3182175159454346
         ],
         "y": [
          0.2584499716758728
         ],
         "z": [
          0.3205681413412094
         ]
        }
       ],
       "layout": {
        "height": 700,
        "legend": {
         "bgcolor": "rgba(255, 255, 255, 0.8)",
         "bordercolor": "Black",
         "borderwidth": 1,
         "x": 0.02,
         "y": 0.98
        },
        "scene": {
         "camera": {
          "eye": {
           "x": 1.5,
           "y": 1.5,
           "z": 1.3
          }
         },
         "xaxis": {
          "backgroundcolor": "rgb(230, 230,230)",
          "showbackground": true,
          "title": {
           "text": "PC1 Direction"
          }
         },
         "yaxis": {
          "backgroundcolor": "rgb(230, 230,230)",
          "showbackground": true,
          "title": {
           "text": "PC2 Direction"
          }
         },
         "zaxis": {
          "backgroundcolor": "rgb(230, 230,230)",
          "showbackground": true,
          "title": {
           "text": "Loss"
          }
         }
        },
        "showlegend": true,
        "template": {
         "data": {
          "bar": [
           {
            "error_x": {
             "color": "#2a3f5f"
            },
            "error_y": {
             "color": "#2a3f5f"
            },
            "marker": {
             "line": {
              "color": "#E5ECF6",
              "width": 0.5
             },
             "pattern": {
              "fillmode": "overlay",
              "size": 10,
              "solidity": 0.2
             }
            },
            "type": "bar"
           }
          ],
          "barpolar": [
           {
            "marker": {
             "line": {
              "color": "#E5ECF6",
              "width": 0.5
             },
             "pattern": {
              "fillmode": "overlay",
              "size": 10,
              "solidity": 0.2
             }
            },
            "type": "barpolar"
           }
          ],
          "carpet": [
           {
            "aaxis": {
             "endlinecolor": "#2a3f5f",
             "gridcolor": "white",
             "linecolor": "white",
             "minorgridcolor": "white",
             "startlinecolor": "#2a3f5f"
            },
            "baxis": {
             "endlinecolor": "#2a3f5f",
             "gridcolor": "white",
             "linecolor": "white",
             "minorgridcolor": "white",
             "startlinecolor": "#2a3f5f"
            },
            "type": "carpet"
           }
          ],
          "choropleth": [
           {
            "colorbar": {
             "outlinewidth": 0,
             "ticks": ""
            },
            "type": "choropleth"
           }
          ],
          "contour": [
           {
            "colorbar": {
             "outlinewidth": 0,
             "ticks": ""
            },
            "colorscale": [
             [
              0,
              "#0d0887"
             ],
             [
              0.1111111111111111,
              "#46039f"
             ],
             [
              0.2222222222222222,
              "#7201a8"
             ],
             [
              0.3333333333333333,
              "#9c179e"
             ],
             [
              0.4444444444444444,
              "#bd3786"
             ],
             [
              0.5555555555555556,
              "#d8576b"
             ],
             [
              0.6666666666666666,
              "#ed7953"
             ],
             [
              0.7777777777777778,
              "#fb9f3a"
             ],
             [
              0.8888888888888888,
              "#fdca26"
             ],
             [
              1,
              "#f0f921"
             ]
            ],
            "type": "contour"
           }
          ],
          "contourcarpet": [
           {
            "colorbar": {
             "outlinewidth": 0,
             "ticks": ""
            },
            "type": "contourcarpet"
           }
          ],
          "heatmap": [
           {
            "colorbar": {
             "outlinewidth": 0,
             "ticks": ""
            },
            "colorscale": [
             [
              0,
              "#0d0887"
             ],
             [
              0.1111111111111111,
              "#46039f"
             ],
             [
              0.2222222222222222,
              "#7201a8"
             ],
             [
              0.3333333333333333,
              "#9c179e"
             ],
             [
              0.4444444444444444,
              "#bd3786"
             ],
             [
              0.5555555555555556,
              "#d8576b"
             ],
             [
              0.6666666666666666,
              "#ed7953"
             ],
             [
              0.7777777777777778,
              "#fb9f3a"
             ],
             [
              0.8888888888888888,
              "#fdca26"
             ],
             [
              1,
              "#f0f921"
             ]
            ],
            "type": "heatmap"
           }
          ],
          "histogram": [
           {
            "marker": {
             "pattern": {
              "fillmode": "overlay",
              "size": 10,
              "solidity": 0.2
             }
            },
            "type": "histogram"
           }
          ],
          "histogram2d": [
           {
            "colorbar": {
             "outlinewidth": 0,
             "ticks": ""
            },
            "colorscale": [
             [
              0,
              "#0d0887"
             ],
             [
              0.1111111111111111,
              "#46039f"
             ],
             [
              0.2222222222222222,
              "#7201a8"
             ],
             [
              0.3333333333333333,
              "#9c179e"
             ],
             [
              0.4444444444444444,
              "#bd3786"
             ],
             [
              0.5555555555555556,
              "#d8576b"
             ],
             [
              0.6666666666666666,
              "#ed7953"
             ],
             [
              0.7777777777777778,
              "#fb9f3a"
             ],
             [
              0.8888888888888888,
              "#fdca26"
             ],
             [
              1,
              "#f0f921"
             ]
            ],
            "type": "histogram2d"
           }
          ],
          "histogram2dcontour": [
           {
            "colorbar": {
             "outlinewidth": 0,
             "ticks": ""
            },
            "colorscale": [
             [
              0,
              "#0d0887"
             ],
             [
              0.1111111111111111,
              "#46039f"
             ],
             [
              0.2222222222222222,
              "#7201a8"
             ],
             [
              0.3333333333333333,
              "#9c179e"
             ],
             [
              0.4444444444444444,
              "#bd3786"
             ],
             [
              0.5555555555555556,
              "#d8576b"
             ],
             [
              0.6666666666666666,
              "#ed7953"
             ],
             [
              0.7777777777777778,
              "#fb9f3a"
             ],
             [
              0.8888888888888888,
              "#fdca26"
             ],
             [
              1,
              "#f0f921"
             ]
            ],
            "type": "histogram2dcontour"
           }
          ],
          "mesh3d": [
           {
            "colorbar": {
             "outlinewidth": 0,
             "ticks": ""
            },
            "type": "mesh3d"
           }
          ],
          "parcoords": [
           {
            "line": {
             "colorbar": {
              "outlinewidth": 0,
              "ticks": ""
             }
            },
            "type": "parcoords"
           }
          ],
          "pie": [
           {
            "automargin": true,
            "type": "pie"
           }
          ],
          "scatter": [
           {
            "fillpattern": {
             "fillmode": "overlay",
             "size": 10,
             "solidity": 0.2
            },
            "type": "scatter"
           }
          ],
          "scatter3d": [
           {
            "line": {
             "colorbar": {
              "outlinewidth": 0,
              "ticks": ""
             }
            },
            "marker": {
             "colorbar": {
              "outlinewidth": 0,
              "ticks": ""
             }
            },
            "type": "scatter3d"
           }
          ],
          "scattercarpet": [
           {
            "marker": {
             "colorbar": {
              "outlinewidth": 0,
              "ticks": ""
             }
            },
            "type": "scattercarpet"
           }
          ],
          "scattergeo": [
           {
            "marker": {
             "colorbar": {
              "outlinewidth": 0,
              "ticks": ""
             }
            },
            "type": "scattergeo"
           }
          ],
          "scattergl": [
           {
            "marker": {
             "colorbar": {
              "outlinewidth": 0,
              "ticks": ""
             }
            },
            "type": "scattergl"
           }
          ],
          "scattermap": [
           {
            "marker": {
             "colorbar": {
              "outlinewidth": 0,
              "ticks": ""
             }
            },
            "type": "scattermap"
           }
          ],
          "scattermapbox": [
           {
            "marker": {
             "colorbar": {
              "outlinewidth": 0,
              "ticks": ""
             }
            },
            "type": "scattermapbox"
           }
          ],
          "scatterpolar": [
           {
            "marker": {
             "colorbar": {
              "outlinewidth": 0,
              "ticks": ""
             }
            },
            "type": "scatterpolar"
           }
          ],
          "scatterpolargl": [
           {
            "marker": {
             "colorbar": {
              "outlinewidth": 0,
              "ticks": ""
             }
            },
            "type": "scatterpolargl"
           }
          ],
          "scatterternary": [
           {
            "marker": {
             "colorbar": {
              "outlinewidth": 0,
              "ticks": ""
             }
            },
            "type": "scatterternary"
           }
          ],
          "surface": [
           {
            "colorbar": {
             "outlinewidth": 0,
             "ticks": ""
            },
            "colorscale": [
             [
              0,
              "#0d0887"
             ],
             [
              0.1111111111111111,
              "#46039f"
             ],
             [
              0.2222222222222222,
              "#7201a8"
             ],
             [
              0.3333333333333333,
              "#9c179e"
             ],
             [
              0.4444444444444444,
              "#bd3786"
             ],
             [
              0.5555555555555556,
              "#d8576b"
             ],
             [
              0.6666666666666666,
              "#ed7953"
             ],
             [
              0.7777777777777778,
              "#fb9f3a"
             ],
             [
              0.8888888888888888,
              "#fdca26"
             ],
             [
              1,
              "#f0f921"
             ]
            ],
            "type": "surface"
           }
          ],
          "table": [
           {
            "cells": {
             "fill": {
              "color": "#EBF0F8"
             },
             "line": {
              "color": "white"
             }
            },
            "header": {
             "fill": {
              "color": "#C8D4E3"
             },
             "line": {
              "color": "white"
             }
            },
            "type": "table"
           }
          ]
         },
         "layout": {
          "annotationdefaults": {
           "arrowcolor": "#2a3f5f",
           "arrowhead": 0,
           "arrowwidth": 1
          },
          "autotypenumbers": "strict",
          "coloraxis": {
           "colorbar": {
            "outlinewidth": 0,
            "ticks": ""
           }
          },
          "colorscale": {
           "diverging": [
            [
             0,
             "#8e0152"
            ],
            [
             0.1,
             "#c51b7d"
            ],
            [
             0.2,
             "#de77ae"
            ],
            [
             0.3,
             "#f1b6da"
            ],
            [
             0.4,
             "#fde0ef"
            ],
            [
             0.5,
             "#f7f7f7"
            ],
            [
             0.6,
             "#e6f5d0"
            ],
            [
             0.7,
             "#b8e186"
            ],
            [
             0.8,
             "#7fbc41"
            ],
            [
             0.9,
             "#4d9221"
            ],
            [
             1,
             "#276419"
            ]
           ],
           "sequential": [
            [
             0,
             "#0d0887"
            ],
            [
             0.1111111111111111,
             "#46039f"
            ],
            [
             0.2222222222222222,
             "#7201a8"
            ],
            [
             0.3333333333333333,
             "#9c179e"
            ],
            [
             0.4444444444444444,
             "#bd3786"
            ],
            [
             0.5555555555555556,
             "#d8576b"
            ],
            [
             0.6666666666666666,
             "#ed7953"
            ],
            [
             0.7777777777777778,
             "#fb9f3a"
            ],
            [
             0.8888888888888888,
             "#fdca26"
            ],
            [
             1,
             "#f0f921"
            ]
           ],
           "sequentialminus": [
            [
             0,
             "#0d0887"
            ],
            [
             0.1111111111111111,
             "#46039f"
            ],
            [
             0.2222222222222222,
             "#7201a8"
            ],
            [
             0.3333333333333333,
             "#9c179e"
            ],
            [
             0.4444444444444444,
             "#bd3786"
            ],
            [
             0.5555555555555556,
             "#d8576b"
            ],
            [
             0.6666666666666666,
             "#ed7953"
            ],
            [
             0.7777777777777778,
             "#fb9f3a"
            ],
            [
             0.8888888888888888,
             "#fdca26"
            ],
            [
             1,
             "#f0f921"
            ]
           ]
          },
          "colorway": [
           "#636efa",
           "#EF553B",
           "#00cc96",
           "#ab63fa",
           "#FFA15A",
           "#19d3f3",
           "#FF6692",
           "#B6E880",
           "#FF97FF",
           "#FECB52"
          ],
          "font": {
           "color": "#2a3f5f"
          },
          "geo": {
           "bgcolor": "white",
           "lakecolor": "white",
           "landcolor": "#E5ECF6",
           "showlakes": true,
           "showland": true,
           "subunitcolor": "white"
          },
          "hoverlabel": {
           "align": "left"
          },
          "hovermode": "closest",
          "mapbox": {
           "style": "light"
          },
          "paper_bgcolor": "white",
          "plot_bgcolor": "#E5ECF6",
          "polar": {
           "angularaxis": {
            "gridcolor": "white",
            "linecolor": "white",
            "ticks": ""
           },
           "bgcolor": "#E5ECF6",
           "radialaxis": {
            "gridcolor": "white",
            "linecolor": "white",
            "ticks": ""
           }
          },
          "scene": {
           "xaxis": {
            "backgroundcolor": "#E5ECF6",
            "gridcolor": "white",
            "gridwidth": 2,
            "linecolor": "white",
            "showbackground": true,
            "ticks": "",
            "zerolinecolor": "white"
           },
           "yaxis": {
            "backgroundcolor": "#E5ECF6",
            "gridcolor": "white",
            "gridwidth": 2,
            "linecolor": "white",
            "showbackground": true,
            "ticks": "",
            "zerolinecolor": "white"
           },
           "zaxis": {
            "backgroundcolor": "#E5ECF6",
            "gridcolor": "white",
            "gridwidth": 2,
            "linecolor": "white",
            "showbackground": true,
            "ticks": "",
            "zerolinecolor": "white"
           }
          },
          "shapedefaults": {
           "line": {
            "color": "#2a3f5f"
           }
          },
          "ternary": {
           "aaxis": {
            "gridcolor": "white",
            "linecolor": "white",
            "ticks": ""
           },
           "baxis": {
            "gridcolor": "white",
            "linecolor": "white",
            "ticks": ""
           },
           "bgcolor": "#E5ECF6",
           "caxis": {
            "gridcolor": "white",
            "linecolor": "white",
            "ticks": ""
           }
          },
          "title": {
           "x": 0.05
          },
          "xaxis": {
           "automargin": true,
           "gridcolor": "white",
           "linecolor": "white",
           "ticks": "",
           "title": {
            "standoff": 15
           },
           "zerolinecolor": "white",
           "zerolinewidth": 2
          },
          "yaxis": {
           "automargin": true,
           "gridcolor": "white",
           "linecolor": "white",
           "ticks": "",
           "title": {
            "standoff": 15
           },
           "zerolinecolor": "white",
           "zerolinewidth": 2
          }
         }
        },
        "title": {
         "text": "Loss Landscape with Training Trajectory",
         "x": 0.5,
         "xanchor": "center"
        },
        "width": 900
       }
      }
     },
     "metadata": {},
     "output_type": "display_data"
    }
   ],
   "source": [
    "# Load data\n",
    "print(\"Loading MNIST...\")\n",
    "train_loader = load_mnist(train_samples=1000, batch_size=64)\n",
    "\n",
    "# Create and train model\n",
    "model = SimpleNet(hidden_dim=20)\n",
    "trajectory_2d, losses, dir1, dir2, init_params = train_and_record(\n",
    "    model, train_loader, epochs=30, lr=0.01, use_filter_norm=False\n",
    ")\n",
    "\n",
    "# Compute landscape\n",
    "Alpha, Beta, Loss_surface = compute_landscape(\n",
    "    model, train_loader, init_params, dir1, dir2, trajectory_2d, resolution=50\n",
    ")\n",
    "\n",
    "# Create and show plot\n",
    "fig = create_3d_plot(Alpha, Beta, Loss_surface, trajectory_2d)\n",
    "fig.show()"
   ]
  },
  {
   "cell_type": "markdown",
   "id": "ce2b4fef",
   "metadata": {},
   "source": [
    "# Visualize Loss Plane\n",
    "\n",
    "## Loss Landscape Visualization: Following Li et al. 2018\n",
    "\n",
    "This notebook implements the loss landscape visualization technique from the paper:\n",
    "\"Visualizing the Loss Landscape of Neural Nets\" by Li et al. (NeurIPS 2018)\n",
    "\n",
    "## Key Concepts:\n",
    "- **Filter Normalization**: The paper's main contribution for fair landscape comparison\n",
    "- **Random Directions**: Using random (not gradient) directions to explore the landscape\n",
    "- **Effect of Architecture**: How depth and skip connections affect landscape geometry"
   ]
  },
  {
   "cell_type": "code",
   "execution_count": 7,
   "id": "b0341f79",
   "metadata": {},
   "outputs": [],
   "source": [
    "import torch\n",
    "import torch.nn as nn\n",
    "import torch.nn.functional as F\n",
    "from torch.utils.data import DataLoader, Subset\n",
    "import torchvision\n",
    "import torchvision.transforms as transforms\n",
    "import numpy as np\n",
    "import plotly.graph_objects as go\n",
    "from scipy.ndimage import gaussian_filter\n",
    "\n",
    "# Set seed\n",
    "torch.manual_seed(42)\n",
    "np.random.seed(42)"
   ]
  },
  {
   "cell_type": "code",
   "execution_count": 8,
   "id": "a3625935",
   "metadata": {},
   "outputs": [],
   "source": [
    "class SimpleNet(nn.Module):\n",
    "    \"\"\"Simple fully-connected neural network for MNIST classification.\n",
    "    \n",
    "    A basic 2-layer neural network with one hidden layer and ReLU activation.\n",
    "    Suitable for small-scale loss landscape visualization experiments.\n",
    "    \n",
    "    Attributes:\n",
    "        fc1 (nn.Linear): First fully-connected layer (784 -> hidden_dim).\n",
    "        fc2 (nn.Linear): Second fully-connected layer (hidden_dim -> 10).\n",
    "    \"\"\"\n",
    "    \n",
    "    def __init__(self, hidden_dim: int = 20):\n",
    "        \"\"\"Initializes the SimpleNet with specified hidden dimension.\n",
    "        \n",
    "        Args:\n",
    "            hidden_dim (int): Number of neurons in the hidden layer. Default is 20.\n",
    "        \"\"\"\n",
    "        super(SimpleNet, self).__init__()\n",
    "        self.fc1 = nn.Linear(784, hidden_dim)\n",
    "        self.fc2 = nn.Linear(hidden_dim, 10)\n",
    "    \n",
    "    def forward(self, x: torch.Tensor) -> torch.Tensor:\n",
    "        \"\"\"Forward pass through the network.\n",
    "        \n",
    "        Args:\n",
    "            x (torch.Tensor): Input tensor of shape (batch_size, 1, 28, 28) or \n",
    "                             (batch_size, 784).\n",
    "        \n",
    "        Returns:\n",
    "            torch.Tensor: Output logits of shape (batch_size, 10).\n",
    "        \"\"\"\n",
    "        x = x.view(-1, 784)\n",
    "        x = F.relu(self.fc1(x))\n",
    "        return self.fc2(x)\n"
   ]
  },
  {
   "cell_type": "code",
   "execution_count": 9,
   "id": "a1a71cb1",
   "metadata": {},
   "outputs": [],
   "source": [
    "def get_params(model: nn.Module) -> torch.Tensor:\n",
    "   \"\"\"Extracts all parameters from a model as a single flattened vector.\n",
    "   \n",
    "   Concatenates all model parameters into a single 1D tensor, preserving\n",
    "   the order of parameters as they appear in model.parameters(). This is\n",
    "   useful for optimization visualization and parameter space analysis.\n",
    "   \n",
    "   Args:\n",
    "       model (nn.Module): PyTorch model from which to extract parameters.\n",
    "   \n",
    "   Returns:\n",
    "       torch.Tensor: Flattened vector containing all model parameters,\n",
    "                    shape (total_params,) where total_params is the sum\n",
    "                    of all parameter sizes.\n",
    "   \n",
    "   Example:\n",
    "       >>> model = nn.Linear(10, 5)\n",
    "       >>> params = get_params(model)\n",
    "       >>> print(f\"Total parameters: {params.numel()}\")  # 10*5 + 5 = 55\n",
    "       \n",
    "   Note:\n",
    "       The returned tensor shares memory with the original parameters.\n",
    "       Use .clone() if you need a separate copy.\n",
    "   \"\"\"\n",
    "   params = []\n",
    "   for param in model.parameters():\n",
    "       params.append(param.data.view(-1))\n",
    "   return torch.cat(params)\n",
    "\n",
    "\n",
    "def set_params(model: nn.Module, params_vector: torch.Tensor) -> None:\n",
    "   \"\"\"Sets model parameters from a single flattened vector.\n",
    "   \n",
    "   Updates all model parameters in-place using values from a flattened\n",
    "   parameter vector. The vector must have the exact same size as the\n",
    "   total number of model parameters, and values are assigned in the\n",
    "   same order as model.parameters().\n",
    "   \n",
    "   Args:\n",
    "       model (nn.Module): PyTorch model whose parameters will be updated.\n",
    "       params_vector (torch.Tensor): Flattened vector containing new parameter\n",
    "                                    values, shape (total_params,). Must match\n",
    "                                    the total parameter count of the model.\n",
    "   \n",
    "   Raises:\n",
    "       RuntimeError: If params_vector size doesn't match model parameter count.\n",
    "       \n",
    "   Example:\n",
    "       >>> model = nn.Linear(10, 5)\n",
    "       >>> original_params = get_params(model).clone()\n",
    "       >>> perturbed_params = original_params + 0.1 * torch.randn_like(original_params)\n",
    "       >>> set_params(model, perturbed_params)\n",
    "       \n",
    "   Note:\n",
    "       This function modifies the model parameters in-place. The model's\n",
    "       computational graph will be broken after calling this function.\n",
    "   \"\"\"\n",
    "   idx = 0\n",
    "   total_size = sum(p.numel() for p in model.parameters())\n",
    "   \n",
    "   if params_vector.numel() != total_size:\n",
    "       raise RuntimeError(f\"Parameter vector size {params_vector.numel()} \"\n",
    "                         f\"doesn't match model parameters {total_size}\")\n",
    "   \n",
    "   for param in model.parameters():\n",
    "       param_size = param.numel()\n",
    "       param.data = params_vector[idx:idx+param_size].view_as(param).data\n",
    "       idx += param_size\n",
    "\n",
    "\n",
    "def create_random_direction(model: nn.Module, \n",
    "                         distribution: str = 'gaussian',\n",
    "                         seed: Optional[int] = None) -> torch.Tensor:\n",
    "   \"\"\"Creates a random direction vector with same dimension as model parameters.\n",
    "   \n",
    "   Generates a random direction in parameter space, useful for loss landscape\n",
    "   visualization and random perturbation analysis. Each parameter's direction\n",
    "   is sampled independently from the specified distribution.\n",
    "   \n",
    "   Args:\n",
    "       model (nn.Module): PyTorch model defining the parameter space dimension.\n",
    "       distribution (str): Type of random distribution to use.\n",
    "                         Options: 'gaussian' (default), 'uniform', 'rademacher'.\n",
    "                         - 'gaussian': Standard normal distribution N(0,1)\n",
    "                         - 'uniform': Uniform distribution U(-1,1)\n",
    "                         - 'rademacher': Random ±1 with equal probability\n",
    "       seed (int, optional): Random seed for reproducibility. If None, uses\n",
    "                            current random state. Default is None.\n",
    "   \n",
    "   Returns:\n",
    "       torch.Tensor: Random direction vector with same total dimension as\n",
    "                    model parameters, shape (total_params,).\n",
    "   \n",
    "   Raises:\n",
    "       ValueError: If distribution is not one of the supported types.\n",
    "       \n",
    "   Example:\n",
    "       >>> model = nn.Sequential(nn.Linear(10, 5), nn.Linear(5, 2))\n",
    "       >>> direction = create_random_direction(model, distribution='gaussian')\n",
    "       >>> print(f\"Direction norm: {direction.norm():.4f}\")\n",
    "       \n",
    "       >>> # For reproducible random direction\n",
    "       >>> direction1 = create_random_direction(model, seed=42)\n",
    "       >>> direction2 = create_random_direction(model, seed=42)\n",
    "       >>> assert torch.allclose(direction1, direction2)\n",
    "       \n",
    "   Note:\n",
    "       The returned direction is not normalized. Use direction/direction.norm()\n",
    "       if you need a unit vector.\n",
    "   \"\"\"\n",
    "   if distribution not in ['gaussian', 'uniform', 'rademacher']:\n",
    "       raise ValueError(f\"Unknown distribution: {distribution}. \"\n",
    "                       \"Choose from 'gaussian', 'uniform', 'rademacher'\")\n",
    "   \n",
    "   if seed is not None:\n",
    "       torch.manual_seed(seed)\n",
    "   \n",
    "   direction = []\n",
    "   for param in model.parameters():\n",
    "       if distribution == 'gaussian':\n",
    "           dir_param = torch.randn_like(param)\n",
    "       elif distribution == 'uniform':\n",
    "           dir_param = torch.rand_like(param) * 2 - 1  # U(-1, 1)\n",
    "       else:  # rademacher\n",
    "           dir_param = torch.sign(torch.randn_like(param))\n",
    "       \n",
    "       direction.append(dir_param.view(-1))\n",
    "   \n",
    "   return torch.cat(direction)\n",
    "\n",
    "\n",
    "def filter_normalize(direction: torch.Tensor, \n",
    "                    model: nn.Module,\n",
    "                    params_at_point: Optional[torch.Tensor] = None,\n",
    "                    epsilon: float = 1e-10) -> torch.Tensor:\n",
    "   \"\"\"Applies filter normalization to a direction vector (Li et al. 2018).\n",
    "   \n",
    "   Implements the filter normalization technique that enables meaningful\n",
    "   comparison of loss landscapes across different architectures and scales.\n",
    "   Each filter (row in weight matrices) is normalized independently to\n",
    "   respect the natural scale of different network layers.\n",
    "   \n",
    "   The normalization formula for each filter:\n",
    "       d_normalized = (d / ||d||) * ||w||\n",
    "   \n",
    "   where d is the direction filter, w is the corresponding weight filter,\n",
    "   and ||·|| denotes the Frobenius norm.\n",
    "   \n",
    "   Args:\n",
    "       direction (torch.Tensor): Direction vector to normalize, shape (total_params,).\n",
    "                                Must have same dimension as model parameters.\n",
    "       model (nn.Module): Neural network model providing parameter structure\n",
    "                         and shapes for the normalization process.\n",
    "       params_at_point (torch.Tensor, optional): Reference parameters for computing\n",
    "                                                 filter norms. If None, uses current\n",
    "                                                 model parameters. Shape (total_params,).\n",
    "                                                 Default is None.\n",
    "       epsilon (float): Small constant to prevent division by zero in normalization.\n",
    "                       Default is 1e-10.\n",
    "   \n",
    "   Returns:\n",
    "       torch.Tensor: Filter-normalized direction vector, shape (total_params,).\n",
    "                    Has the same dimension as the input direction.\n",
    "   \n",
    "   Raises:\n",
    "       ValueError: If direction dimension doesn't match model parameter count.\n",
    "       RuntimeError: If params_at_point is provided but has wrong dimension.\n",
    "       \n",
    "   Example:\n",
    "       >>> # Basic usage with current model parameters\n",
    "       >>> model = nn.Sequential(nn.Linear(784, 256), nn.ReLU(), nn.Linear(256, 10))\n",
    "       >>> direction = create_random_direction(model)\n",
    "       >>> normalized_dir = filter_normalize(direction, model)\n",
    "       \n",
    "       >>> # Using specific reference point for normalization\n",
    "       >>> init_params = get_params(model).clone()\n",
    "       >>> # ... train model ...\n",
    "       >>> direction = create_random_direction(model)\n",
    "       >>> normalized_dir = filter_normalize(direction, model, params_at_point=init_params)\n",
    "       \n",
    "   Note:\n",
    "       - For fully connected layers, each row of the weight matrix is treated as a filter\n",
    "       - For convolutional layers, each output channel is treated as a filter\n",
    "       - Bias terms are not normalized (they don't have multiple filters)\n",
    "       - This normalization is crucial for comparing loss landscapes across different\n",
    "         architectures, as it removes the scale ambiguity in neural networks\n",
    "         \n",
    "   Reference:\n",
    "       Li, H., Xu, Z., Taylor, G., Studer, C., & Goldstein, T. (2018).\n",
    "       Visualizing the Loss Landscape of Neural Nets. NeurIPS.\n",
    "   \"\"\"\n",
    "   # Validate input dimensions\n",
    "   total_params = sum(p.numel() for p in model.parameters())\n",
    "   if direction.numel() != total_params:\n",
    "       raise ValueError(f\"Direction size {direction.numel()} doesn't match \"\n",
    "                       f\"model parameter count {total_params}\")\n",
    "   \n",
    "   if params_at_point is None:\n",
    "       params_at_point = get_params(model)\n",
    "   elif params_at_point.numel() != total_params:\n",
    "       raise RuntimeError(f\"params_at_point size {params_at_point.numel()} \"\n",
    "                         f\"doesn't match model parameters {total_params}\")\n",
    "   \n",
    "   normalized_direction = []\n",
    "   idx = 0\n",
    "   \n",
    "   for param in model.parameters():\n",
    "       param_size = param.numel()\n",
    "       param_direction = direction[idx:idx+param_size]\n",
    "       \n",
    "       if len(param.shape) >= 2:  # Weight matrix (FC or Conv layer has filters)\n",
    "           # Reshape to match parameter shape\n",
    "           param_direction = param_direction.view_as(param)\n",
    "           param_weights = params_at_point[idx:idx+param_size].view_as(param)\n",
    "           \n",
    "           # Normalize each filter (row for FC layers, output channel for Conv)\n",
    "           for i in range(param.shape[0]):\n",
    "               filter_dir = param_direction[i]\n",
    "               filter_weight = param_weights[i]\n",
    "               \n",
    "               # Compute norms (flatten for correct norm calculation)\n",
    "               filter_dir_flat = filter_dir.view(-1)\n",
    "               filter_weight_flat = filter_weight.view(-1)\n",
    "               \n",
    "               dir_norm = filter_dir_flat.norm()\n",
    "               weight_norm = filter_weight_flat.norm()\n",
    "               \n",
    "               # Apply filter normalization with epsilon for numerical stability\n",
    "               if dir_norm > epsilon:\n",
    "                   filter_dir_normalized = filter_dir * (weight_norm / dir_norm)\n",
    "                   param_direction[i] = filter_dir_normalized\n",
    "               # If direction norm is too small, keep it as zero\n",
    "           \n",
    "           normalized_direction.append(param_direction.view(-1))\n",
    "       else:\n",
    "           # Bias terms or 1D parameters - no normalization needed\n",
    "           normalized_direction.append(param_direction)\n",
    "       \n",
    "       idx += param_size\n",
    "   \n",
    "   return torch.cat(normalized_direction)"
   ]
  },
  {
   "cell_type": "code",
   "execution_count": 10,
   "id": "0cc2ac44",
   "metadata": {},
   "outputs": [],
   "source": [
    "def compute_loss_landscape(model: nn.Module,\n",
    "                         train_loader: DataLoader,\n",
    "                         resolution: int = 51,\n",
    "                         scale: float = 1.0,\n",
    "                         use_filter_norm: bool = True,\n",
    "                         smoothing: float = 0.0,\n",
    "                         scale_multiplier: float = 1.0) -> Tuple[np.ndarray, np.ndarray, np.ndarray]:\n",
    "   \"\"\"Computes the loss landscape of a neural network in a 2D parameter subspace.\n",
    "   \n",
    "   Generates a 2D visualization of the loss landscape by evaluating the loss\n",
    "   function on a grid of points in a 2-dimensional subspace of the parameter\n",
    "   space. The subspace is defined by two random direction vectors, which can\n",
    "   optionally be filter-normalized following Li et al. 2018.\n",
    "   \n",
    "   This function is useful for understanding optimization geometry, comparing\n",
    "   architectures, and visualizing the effect of different training methods\n",
    "   on the loss landscape structure.\n",
    "   \n",
    "   Args:\n",
    "       model (nn.Module): Neural network model whose loss landscape will be computed.\n",
    "                         The model parameters define the center point of the landscape.\n",
    "       train_loader (DataLoader): DataLoader containing training data for loss evaluation.\n",
    "                                 Only the first few batches are used for efficiency.\n",
    "       resolution (int): Number of grid points along each axis. Default is 51.\n",
    "                        Total evaluations will be resolution^2.\n",
    "                        Higher values give more detail but increase computation time.\n",
    "       scale (float): Range of the grid in each direction, from -scale to +scale.\n",
    "                     Default is 1.0. Larger values show wider views of the landscape.\n",
    "       use_filter_norm (bool): Whether to apply filter normalization to direction vectors.\n",
    "                              True (default) enables scale-invariant comparison across\n",
    "                              architectures following Li et al. 2018.\n",
    "                              False shows raw landscape which may be dominated by scale effects.\n",
    "       smoothing (float): Gaussian smoothing sigma parameter. Default is 0.0 (no smoothing).\n",
    "                         Positive values apply smoothing to reduce noise in the landscape.\n",
    "       scale_multiplier (float): Additional scaling factor for the direction vectors.\n",
    "                                Default is 1.0. Useful for adjusting the effective\n",
    "                                step size in parameter space.\n",
    "   \n",
    "   Returns:\n",
    "       Tuple containing:\n",
    "           - Alpha (np.ndarray): Meshgrid x-coordinates for the grid points,\n",
    "                                shape (resolution, resolution).\n",
    "           - Beta (np.ndarray): Meshgrid y-coordinates for the grid points,\n",
    "                               shape (resolution, resolution).\n",
    "           - Loss_surface (np.ndarray): Loss values at each grid point,\n",
    "                                       shape (resolution, resolution).\n",
    "                                       May contain smoothed values if smoothing > 0.\n",
    "   \n",
    "   Raises:\n",
    "       RuntimeError: If CUDA is requested but not available.\n",
    "       ValueError: If resolution is less than 2 or scale is non-positive.\n",
    "       \n",
    "   Example:\n",
    "       >>> # Basic usage with filter normalization\n",
    "       >>> model = SimpleNet(hidden_dim=256)\n",
    "       >>> train_loader = load_mnist(train_samples=1000, batch_size=64)\n",
    "       >>> Alpha, Beta, Loss = compute_loss_landscape(\n",
    "       ...     model, train_loader, resolution=51, scale=1.0, use_filter_norm=True\n",
    "       ... )\n",
    "       >>> print(f\"Loss range: [{Loss.min():.2f}, {Loss.max():.2f}]\")\n",
    "       \n",
    "       >>> # Wide view without filter normalization to see raw landscape\n",
    "       >>> Alpha, Beta, Loss = compute_loss_landscape(\n",
    "       ...     model, train_loader, resolution=31, scale=5.0, \n",
    "       ...     use_filter_norm=False, scale_multiplier=0.1\n",
    "       ... )\n",
    "       \n",
    "       >>> # Smoothed landscape for cleaner visualization\n",
    "       >>> Alpha, Beta, Loss = compute_loss_landscape(\n",
    "       ...     model, train_loader, smoothing=2.0\n",
    "       ... )\n",
    "   \n",
    "   Note:\n",
    "       - Only the first 3 batches of data are used for efficiency. This is a\n",
    "         approximation that trades accuracy for speed.\n",
    "       - The landscape is computed around the current model parameters.\n",
    "       - Filter normalization is crucial for fair comparison between different\n",
    "         architectures or training stages.\n",
    "       - Large scale values with small models may cause numerical instability.\n",
    "       - The function includes error handling for NaN/Inf values that may occur\n",
    "         with extreme perturbations.\n",
    "         \n",
    "   Performance:\n",
    "       Time complexity: O(resolution^2 * batch_evaluations * forward_pass_time)\n",
    "       Memory complexity: O(resolution^2 + model_parameters)\n",
    "       \n",
    "       Typical timing (on GPU):\n",
    "       - resolution=51, 3 batches: ~1-2 minutes for small models\n",
    "       - resolution=101, 3 batches: ~5-10 minutes for small models\n",
    "       \n",
    "   Reference:\n",
    "       Li, H., Xu, Z., Taylor, G., Studer, C., & Goldstein, T. (2018).\n",
    "       Visualizing the Loss Landscape of Neural Nets. NeurIPS.\n",
    "       \n",
    "   See Also:\n",
    "       filter_normalize: For understanding the normalization technique.\n",
    "       create_random_direction: For generating direction vectors.\n",
    "       set_params/get_params: For parameter manipulation.\n",
    "   \"\"\"\n",
    "   # Input validation\n",
    "   if resolution < 2:\n",
    "       raise ValueError(f\"Resolution must be at least 2, got {resolution}\")\n",
    "   if scale <= 0:\n",
    "       raise ValueError(f\"Scale must be positive, got {scale}\")\n",
    "   \n",
    "   # Device setup\n",
    "   device = torch.device('cuda' if torch.cuda.is_available() else 'cpu')\n",
    "   model = model.to(device)\n",
    "   criterion = nn.CrossEntropyLoss()\n",
    "   \n",
    "   # Store original parameters (center point of landscape)\n",
    "   initial_params = get_params(model)\n",
    "   \n",
    "   # Create two random directions for defining the 2D subspace\n",
    "   d1 = create_random_direction(model)\n",
    "   d2 = create_random_direction(model)\n",
    "   \n",
    "   # Apply normalization strategy based on use_filter_norm\n",
    "   if use_filter_norm:\n",
    "       print(\"Using filter normalization (Li et al. 2018)...\")\n",
    "       # Filter normalization: each filter scaled independently\n",
    "       direction1 = filter_normalize(d1, model)\n",
    "       direction2 = filter_normalize(d2, model)\n",
    "       \n",
    "       # Apply additional scaling for wider/narrower view\n",
    "       direction1 = direction1 * scale_multiplier\n",
    "       direction2 = direction2 * scale_multiplier\n",
    "   else:\n",
    "       print(\"Using raw random directions (no filter norm)...\")\n",
    "       # Global normalization: scale by total parameter norm\n",
    "       # This shows the \"raw\" landscape without filter-wise scaling\n",
    "       param_norm = initial_params.norm()\n",
    "       direction1 = (d1 / d1.norm()) * param_norm * 0.1 * scale_multiplier\n",
    "       direction2 = (d2 / d2.norm()) * param_norm * 0.1 * scale_multiplier\n",
    "   \n",
    "   # Orthogonalize direction2 with respect to direction1\n",
    "   # This ensures the two directions span a proper 2D subspace\n",
    "   direction2 = direction2 - direction1.dot(direction2) / direction1.dot(direction1) * direction1\n",
    "   \n",
    "   # Re-normalize direction2 to match direction1's scale\n",
    "   # This prevents distortion in the visualization\n",
    "   if use_filter_norm:\n",
    "       direction2 = direction2 / direction2.norm() * direction1.norm()\n",
    "   \n",
    "   # Print diagnostic information\n",
    "   print(f\"Direction norms: d1={direction1.norm():.3f}, d2={direction2.norm():.3f}\")\n",
    "   print(f\"Parameter norm: {initial_params.norm():.3f}\")\n",
    "   \n",
    "   # Create evaluation grid\n",
    "   alpha_range = np.linspace(-scale, scale, resolution)\n",
    "   beta_range = np.linspace(-scale, scale, resolution)\n",
    "   Alpha, Beta = np.meshgrid(alpha_range, beta_range)\n",
    "   Loss_surface = np.zeros_like(Alpha)\n",
    "   \n",
    "   print(f\"Computing loss landscape ({resolution}x{resolution} grid, scale={scale})...\")\n",
    "   print(f\"Actual parameter perturbation range: [{-scale * direction1.norm():.3f}, {scale * direction1.norm():.3f}]\")\n",
    "   \n",
    "   # Track min/max for debugging and validation\n",
    "   min_loss = float('inf')\n",
    "   max_loss = float('-inf')\n",
    "   \n",
    "   # Evaluate loss at each grid point\n",
    "   for i in range(resolution):\n",
    "       if i % 10 == 0:\n",
    "           print(f\"  Progress: {i}/{resolution}\")\n",
    "       for j in range(resolution):\n",
    "           # Compute perturbed parameters at this grid point\n",
    "           # θ_perturbed = θ_initial + α * direction1 + β * direction2\n",
    "           perturbed_params = initial_params + \\\n",
    "                             alpha_range[i] * direction1 + \\\n",
    "                             beta_range[j] * direction2\n",
    "           \n",
    "           # Set model to these parameters\n",
    "           set_params(model, perturbed_params)\n",
    "           \n",
    "           # Compute loss (using subset of batches for efficiency)\n",
    "           batch_losses = []\n",
    "           with torch.no_grad():  # No gradients needed for landscape computation\n",
    "               for batch_idx, (data, target) in enumerate(train_loader):\n",
    "                   if batch_idx >= 3:  # Use only first 3 batches for speed\n",
    "                       break\n",
    "                   \n",
    "                   data, target = data.to(device), target.to(device)\n",
    "                   \n",
    "                   try:\n",
    "                       output = model(data)\n",
    "                       loss = criterion(output, target)\n",
    "                       \n",
    "                       # Handle numerical issues\n",
    "                       if torch.isnan(loss) or torch.isinf(loss):\n",
    "                           # Use large but finite value for unstable points\n",
    "                           batch_losses.append(1000.0)\n",
    "                       else:\n",
    "                           batch_losses.append(loss.item())\n",
    "                   except RuntimeError as e:\n",
    "                       # Catch numerical overflow or other runtime errors\n",
    "                       # This can happen with extreme perturbations\n",
    "                       batch_losses.append(1000.0)\n",
    "           \n",
    "           # Average loss across batches\n",
    "           if batch_losses:\n",
    "               Loss_surface[j, i] = np.mean(batch_losses)\n",
    "           else:\n",
    "               Loss_surface[j, i] = 1000.0  # Fallback value\n",
    "           \n",
    "           # Track statistics\n",
    "           min_loss = min(min_loss, Loss_surface[j, i])\n",
    "           max_loss = max(max_loss, Loss_surface[j, i])\n",
    "   \n",
    "   print(f\"  Raw loss range: [{min_loss:.3f}, {max_loss:.3f}]\")\n",
    "   \n",
    "   # Restore original parameters\n",
    "   # Important: This ensures the model is unchanged after landscape computation\n",
    "   set_params(model, initial_params)\n",
    "   \n",
    "   # Apply optional Gaussian smoothing to reduce noise\n",
    "   if smoothing > 0:\n",
    "       print(f\"  Applying Gaussian smoothing (sigma={smoothing})...\")\n",
    "       from scipy.ndimage import gaussian_filter\n",
    "       Loss_surface = gaussian_filter(Loss_surface, sigma=smoothing)\n",
    "       print(f\"  Smoothed loss range: [{Loss_surface.min():.3f}, {Loss_surface.max():.3f}]\")\n",
    "   else:\n",
    "       print(\"  No smoothing applied\")\n",
    "   \n",
    "   return Alpha, Beta, Loss_surface"
   ]
  },
  {
   "cell_type": "code",
   "execution_count": 11,
   "id": "b474e4eb",
   "metadata": {},
   "outputs": [],
   "source": [
    "def visualize_loss_landscape(Alpha, Beta, Loss_surface, title=\"Loss Landscape (Li et al. 2018)\"):\n",
    "    \"\"\"\n",
    "    Create 3D visualization of the loss landscape\n",
    "    \"\"\"\n",
    "    fig = go.Figure()\n",
    "    \n",
    "    # Add the loss surface\n",
    "    fig.add_trace(go.Surface(\n",
    "        x=Alpha,\n",
    "        y=Beta,\n",
    "        z=Loss_surface,\n",
    "        colorscale='Viridis',\n",
    "        opacity=0.9,\n",
    "        contours={\n",
    "            \"z\": {\n",
    "                \"show\": True,\n",
    "                \"usecolormap\": True,\n",
    "                \"project\": {\"z\": True},\n",
    "                \"width\": 2\n",
    "            }\n",
    "        },\n",
    "        colorbar=dict(\n",
    "            title=\"Loss\",\n",
    "            x=1.20\n",
    "        )\n",
    "    ))\n",
    "    \n",
    "    # Mark the center point (current parameters)\n",
    "    center_loss = Loss_surface[len(Loss_surface)//2, len(Loss_surface[0])//2]\n",
    "    fig.add_trace(go.Scatter3d(\n",
    "        x=[0],\n",
    "        y=[0],\n",
    "        z=[center_loss],\n",
    "        mode='markers',\n",
    "        marker=dict(size=8, color='red', symbol='diamond'),\n",
    "        name='Center Point'\n",
    "    ))\n",
    "    \n",
    "    fig.update_layout(\n",
    "        title=title,\n",
    "        scene=dict(\n",
    "            xaxis_title=\"Random Direction 1 (filter normalized)\",\n",
    "            yaxis_title=\"Random Direction 2 (filter normalized)\",\n",
    "            zaxis_title=\"Loss\",\n",
    "            camera=dict(\n",
    "                eye=dict(x=1.5, y=1.5, z=1.3)\n",
    "            ),\n",
    "            aspectmode='manual',\n",
    "            aspectratio=dict(x=1, y=1, z=0.5)\n",
    "        ),\n",
    "        height=700,\n",
    "        showlegend=True\n",
    "    )\n",
    "    \n",
    "    return fig"
   ]
  },
  {
   "cell_type": "code",
   "execution_count": 12,
   "id": "a18dcbb7",
   "metadata": {},
   "outputs": [],
   "source": [
    "def train_model(model, train_loader, epochs=30, lr=0.01):\n",
    "    \"\"\"\n",
    "    Optional: Train the model before visualizing its loss landscape\n",
    "    This gives a more interesting landscape around a trained minimum\n",
    "    \"\"\"\n",
    "    device = torch.device('cuda' if torch.cuda.is_available() else 'cpu')\n",
    "    model = model.to(device)\n",
    "    \n",
    "    criterion = nn.CrossEntropyLoss()\n",
    "    optimizer = torch.optim.SGD(model.parameters(), lr=lr)\n",
    "    \n",
    "    print(f\"Training for {epochs} epochs...\")\n",
    "    for epoch in range(epochs):\n",
    "        epoch_loss = 0\n",
    "        for data, target in train_loader:\n",
    "            data, target = data.to(device), target.to(device)\n",
    "            \n",
    "            optimizer.zero_grad()\n",
    "            output = model(data)\n",
    "            loss = criterion(output, target)\n",
    "            loss.backward()\n",
    "            optimizer.step()\n",
    "            epoch_loss += loss.item()\n",
    "        \n",
    "        if epoch % 10 == 0:\n",
    "            avg_loss = epoch_loss / len(train_loader)\n",
    "            print(f\"  Epoch {epoch}: Loss = {avg_loss:.4f}\")\n",
    "    \n",
    "    print(\"Training complete!\")\n",
    "    return model"
   ]
  },
  {
   "cell_type": "code",
   "execution_count": 13,
   "id": "78efc03d",
   "metadata": {},
   "outputs": [
    {
     "name": "stdout",
     "output_type": "stream",
     "text": [
      "Loading MNIST dataset...\n",
      "\n",
      "==================================================\n",
      "Visualizing loss landscape at RANDOM INITIALIZATION\n",
      "==================================================\n",
      "Using filter normalization (Li et al. 2018)...\n",
      "Direction norms: d1=5.621, d2=5.621\n",
      "Parameter norm: 3.181\n",
      "Computing loss landscape (51x51 grid, scale=1.0)...\n",
      "Actual parameter perturbation range: [-5.621, 5.621]\n",
      "  Progress: 0/51\n",
      "  Progress: 10/51\n",
      "  Progress: 20/51\n",
      "  Progress: 30/51\n",
      "  Progress: 40/51\n",
      "  Progress: 50/51\n",
      "  Raw loss range: [2.278, 3.910]\n",
      "  Applying Gaussian smoothing (sigma=0.9)...\n",
      "  Smoothed loss range: [2.312, 3.789]\n"
     ]
    },
    {
     "data": {
      "application/vnd.plotly.v1+json": {
       "config": {
        "plotlyServerURL": "https://plot.ly"
       },
       "data": [
        {
         "colorbar": {
          "title": {
           "text": "Loss"
          },
          "x": 1.2
         },
         "colorscale": [
          [
           0,
           "#440154"
          ],
          [
           0.1111111111111111,
           "#482878"
          ],
          [
           0.2222222222222222,
           "#3e4989"
          ],
          [
           0.3333333333333333,
           "#31688e"
          ],
          [
           0.4444444444444444,
           "#26828e"
          ],
          [
           0.5555555555555556,
           "#1f9e89"
          ],
          [
           0.6666666666666666,
           "#35b779"
          ],
          [
           0.7777777777777778,
           "#6ece58"
          ],
          [
           0.8888888888888888,
           "#b5de2b"
          ],
          [
           1,
           "#fde725"
          ]
         ],
         "contours": {
          "z": {
           "project": {
            "z": true
           },
           "show": true,
           "usecolormap": true,
           "width": 2
          }
         },
         "opacity": 0.9,
         "type": "surface",
         "x": {
          "bdata": "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",
          "dtype": "f8",
          "shape": "51, 51"
         },
         "y": {
          "bdata": "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",
          "dtype": "f8",
          "shape": "51, 51"
         },
         "z": {
          "bdata": "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",
          "dtype": "f8",
          "shape": "51, 51"
         }
        },
        {
         "marker": {
          "color": "red",
          "size": 8,
          "symbol": "diamond"
         },
         "mode": "markers",
         "name": "Center Point",
         "type": "scatter3d",
         "x": [
          0
         ],
         "y": [
          0
         ],
         "z": [
          2.3219053540401875
         ]
        }
       ],
       "layout": {
        "height": 700,
        "scene": {
         "aspectmode": "manual",
         "aspectratio": {
          "x": 1,
          "y": 1,
          "z": 0.5
         },
         "camera": {
          "eye": {
           "x": 1.5,
           "y": 1.5,
           "z": 1.3
          }
         },
         "xaxis": {
          "title": {
           "text": "Random Direction 1 (filter normalized)"
          }
         },
         "yaxis": {
          "title": {
           "text": "Random Direction 2 (filter normalized)"
          }
         },
         "zaxis": {
          "title": {
           "text": "Loss"
          }
         }
        },
        "showlegend": true,
        "template": {
         "data": {
          "bar": [
           {
            "error_x": {
             "color": "#2a3f5f"
            },
            "error_y": {
             "color": "#2a3f5f"
            },
            "marker": {
             "line": {
              "color": "#E5ECF6",
              "width": 0.5
             },
             "pattern": {
              "fillmode": "overlay",
              "size": 10,
              "solidity": 0.2
             }
            },
            "type": "bar"
           }
          ],
          "barpolar": [
           {
            "marker": {
             "line": {
              "color": "#E5ECF6",
              "width": 0.5
             },
             "pattern": {
              "fillmode": "overlay",
              "size": 10,
              "solidity": 0.2
             }
            },
            "type": "barpolar"
           }
          ],
          "carpet": [
           {
            "aaxis": {
             "endlinecolor": "#2a3f5f",
             "gridcolor": "white",
             "linecolor": "white",
             "minorgridcolor": "white",
             "startlinecolor": "#2a3f5f"
            },
            "baxis": {
             "endlinecolor": "#2a3f5f",
             "gridcolor": "white",
             "linecolor": "white",
             "minorgridcolor": "white",
             "startlinecolor": "#2a3f5f"
            },
            "type": "carpet"
           }
          ],
          "choropleth": [
           {
            "colorbar": {
             "outlinewidth": 0,
             "ticks": ""
            },
            "type": "choropleth"
           }
          ],
          "contour": [
           {
            "colorbar": {
             "outlinewidth": 0,
             "ticks": ""
            },
            "colorscale": [
             [
              0,
              "#0d0887"
             ],
             [
              0.1111111111111111,
              "#46039f"
             ],
             [
              0.2222222222222222,
              "#7201a8"
             ],
             [
              0.3333333333333333,
              "#9c179e"
             ],
             [
              0.4444444444444444,
              "#bd3786"
             ],
             [
              0.5555555555555556,
              "#d8576b"
             ],
             [
              0.6666666666666666,
              "#ed7953"
             ],
             [
              0.7777777777777778,
              "#fb9f3a"
             ],
             [
              0.8888888888888888,
              "#fdca26"
             ],
             [
              1,
              "#f0f921"
             ]
            ],
            "type": "contour"
           }
          ],
          "contourcarpet": [
           {
            "colorbar": {
             "outlinewidth": 0,
             "ticks": ""
            },
            "type": "contourcarpet"
           }
          ],
          "heatmap": [
           {
            "colorbar": {
             "outlinewidth": 0,
             "ticks": ""
            },
            "colorscale": [
             [
              0,
              "#0d0887"
             ],
             [
              0.1111111111111111,
              "#46039f"
             ],
             [
              0.2222222222222222,
              "#7201a8"
             ],
             [
              0.3333333333333333,
              "#9c179e"
             ],
             [
              0.4444444444444444,
              "#bd3786"
             ],
             [
              0.5555555555555556,
              "#d8576b"
             ],
             [
              0.6666666666666666,
              "#ed7953"
             ],
             [
              0.7777777777777778,
              "#fb9f3a"
             ],
             [
              0.8888888888888888,
              "#fdca26"
             ],
             [
              1,
              "#f0f921"
             ]
            ],
            "type": "heatmap"
           }
          ],
          "histogram": [
           {
            "marker": {
             "pattern": {
              "fillmode": "overlay",
              "size": 10,
              "solidity": 0.2
             }
            },
            "type": "histogram"
           }
          ],
          "histogram2d": [
           {
            "colorbar": {
             "outlinewidth": 0,
             "ticks": ""
            },
            "colorscale": [
             [
              0,
              "#0d0887"
             ],
             [
              0.1111111111111111,
              "#46039f"
             ],
             [
              0.2222222222222222,
              "#7201a8"
             ],
             [
              0.3333333333333333,
              "#9c179e"
             ],
             [
              0.4444444444444444,
              "#bd3786"
             ],
             [
              0.5555555555555556,
              "#d8576b"
             ],
             [
              0.6666666666666666,
              "#ed7953"
             ],
             [
              0.7777777777777778,
              "#fb9f3a"
             ],
             [
              0.8888888888888888,
              "#fdca26"
             ],
             [
              1,
              "#f0f921"
             ]
            ],
            "type": "histogram2d"
           }
          ],
          "histogram2dcontour": [
           {
            "colorbar": {
             "outlinewidth": 0,
             "ticks": ""
            },
            "colorscale": [
             [
              0,
              "#0d0887"
             ],
             [
              0.1111111111111111,
              "#46039f"
             ],
             [
              0.2222222222222222,
              "#7201a8"
             ],
             [
              0.3333333333333333,
              "#9c179e"
             ],
             [
              0.4444444444444444,
              "#bd3786"
             ],
             [
              0.5555555555555556,
              "#d8576b"
             ],
             [
              0.6666666666666666,
              "#ed7953"
             ],
             [
              0.7777777777777778,
              "#fb9f3a"
             ],
             [
              0.8888888888888888,
              "#fdca26"
             ],
             [
              1,
              "#f0f921"
             ]
            ],
            "type": "histogram2dcontour"
           }
          ],
          "mesh3d": [
           {
            "colorbar": {
             "outlinewidth": 0,
             "ticks": ""
            },
            "type": "mesh3d"
           }
          ],
          "parcoords": [
           {
            "line": {
             "colorbar": {
              "outlinewidth": 0,
              "ticks": ""
             }
            },
            "type": "parcoords"
           }
          ],
          "pie": [
           {
            "automargin": true,
            "type": "pie"
           }
          ],
          "scatter": [
           {
            "fillpattern": {
             "fillmode": "overlay",
             "size": 10,
             "solidity": 0.2
            },
            "type": "scatter"
           }
          ],
          "scatter3d": [
           {
            "line": {
             "colorbar": {
              "outlinewidth": 0,
              "ticks": ""
             }
            },
            "marker": {
             "colorbar": {
              "outlinewidth": 0,
              "ticks": ""
             }
            },
            "type": "scatter3d"
           }
          ],
          "scattercarpet": [
           {
            "marker": {
             "colorbar": {
              "outlinewidth": 0,
              "ticks": ""
             }
            },
            "type": "scattercarpet"
           }
          ],
          "scattergeo": [
           {
            "marker": {
             "colorbar": {
              "outlinewidth": 0,
              "ticks": ""
             }
            },
            "type": "scattergeo"
           }
          ],
          "scattergl": [
           {
            "marker": {
             "colorbar": {
              "outlinewidth": 0,
              "ticks": ""
             }
            },
            "type": "scattergl"
           }
          ],
          "scattermap": [
           {
            "marker": {
             "colorbar": {
              "outlinewidth": 0,
              "ticks": ""
             }
            },
            "type": "scattermap"
           }
          ],
          "scattermapbox": [
           {
            "marker": {
             "colorbar": {
              "outlinewidth": 0,
              "ticks": ""
             }
            },
            "type": "scattermapbox"
           }
          ],
          "scatterpolar": [
           {
            "marker": {
             "colorbar": {
              "outlinewidth": 0,
              "ticks": ""
             }
            },
            "type": "scatterpolar"
           }
          ],
          "scatterpolargl": [
           {
            "marker": {
             "colorbar": {
              "outlinewidth": 0,
              "ticks": ""
             }
            },
            "type": "scatterpolargl"
           }
          ],
          "scatterternary": [
           {
            "marker": {
             "colorbar": {
              "outlinewidth": 0,
              "ticks": ""
             }
            },
            "type": "scatterternary"
           }
          ],
          "surface": [
           {
            "colorbar": {
             "outlinewidth": 0,
             "ticks": ""
            },
            "colorscale": [
             [
              0,
              "#0d0887"
             ],
             [
              0.1111111111111111,
              "#46039f"
             ],
             [
              0.2222222222222222,
              "#7201a8"
             ],
             [
              0.3333333333333333,
              "#9c179e"
             ],
             [
              0.4444444444444444,
              "#bd3786"
             ],
             [
              0.5555555555555556,
              "#d8576b"
             ],
             [
              0.6666666666666666,
              "#ed7953"
             ],
             [
              0.7777777777777778,
              "#fb9f3a"
             ],
             [
              0.8888888888888888,
              "#fdca26"
             ],
             [
              1,
              "#f0f921"
             ]
            ],
            "type": "surface"
           }
          ],
          "table": [
           {
            "cells": {
             "fill": {
              "color": "#EBF0F8"
             },
             "line": {
              "color": "white"
             }
            },
            "header": {
             "fill": {
              "color": "#C8D4E3"
             },
             "line": {
              "color": "white"
             }
            },
            "type": "table"
           }
          ]
         },
         "layout": {
          "annotationdefaults": {
           "arrowcolor": "#2a3f5f",
           "arrowhead": 0,
           "arrowwidth": 1
          },
          "autotypenumbers": "strict",
          "coloraxis": {
           "colorbar": {
            "outlinewidth": 0,
            "ticks": ""
           }
          },
          "colorscale": {
           "diverging": [
            [
             0,
             "#8e0152"
            ],
            [
             0.1,
             "#c51b7d"
            ],
            [
             0.2,
             "#de77ae"
            ],
            [
             0.3,
             "#f1b6da"
            ],
            [
             0.4,
             "#fde0ef"
            ],
            [
             0.5,
             "#f7f7f7"
            ],
            [
             0.6,
             "#e6f5d0"
            ],
            [
             0.7,
             "#b8e186"
            ],
            [
             0.8,
             "#7fbc41"
            ],
            [
             0.9,
             "#4d9221"
            ],
            [
             1,
             "#276419"
            ]
           ],
           "sequential": [
            [
             0,
             "#0d0887"
            ],
            [
             0.1111111111111111,
             "#46039f"
            ],
            [
             0.2222222222222222,
             "#7201a8"
            ],
            [
             0.3333333333333333,
             "#9c179e"
            ],
            [
             0.4444444444444444,
             "#bd3786"
            ],
            [
             0.5555555555555556,
             "#d8576b"
            ],
            [
             0.6666666666666666,
             "#ed7953"
            ],
            [
             0.7777777777777778,
             "#fb9f3a"
            ],
            [
             0.8888888888888888,
             "#fdca26"
            ],
            [
             1,
             "#f0f921"
            ]
           ],
           "sequentialminus": [
            [
             0,
             "#0d0887"
            ],
            [
             0.1111111111111111,
             "#46039f"
            ],
            [
             0.2222222222222222,
             "#7201a8"
            ],
            [
             0.3333333333333333,
             "#9c179e"
            ],
            [
             0.4444444444444444,
             "#bd3786"
            ],
            [
             0.5555555555555556,
             "#d8576b"
            ],
            [
             0.6666666666666666,
             "#ed7953"
            ],
            [
             0.7777777777777778,
             "#fb9f3a"
            ],
            [
             0.8888888888888888,
             "#fdca26"
            ],
            [
             1,
             "#f0f921"
            ]
           ]
          },
          "colorway": [
           "#636efa",
           "#EF553B",
           "#00cc96",
           "#ab63fa",
           "#FFA15A",
           "#19d3f3",
           "#FF6692",
           "#B6E880",
           "#FF97FF",
           "#FECB52"
          ],
          "font": {
           "color": "#2a3f5f"
          },
          "geo": {
           "bgcolor": "white",
           "lakecolor": "white",
           "landcolor": "#E5ECF6",
           "showlakes": true,
           "showland": true,
           "subunitcolor": "white"
          },
          "hoverlabel": {
           "align": "left"
          },
          "hovermode": "closest",
          "mapbox": {
           "style": "light"
          },
          "paper_bgcolor": "white",
          "plot_bgcolor": "#E5ECF6",
          "polar": {
           "angularaxis": {
            "gridcolor": "white",
            "linecolor": "white",
            "ticks": ""
           },
           "bgcolor": "#E5ECF6",
           "radialaxis": {
            "gridcolor": "white",
            "linecolor": "white",
            "ticks": ""
           }
          },
          "scene": {
           "xaxis": {
            "backgroundcolor": "#E5ECF6",
            "gridcolor": "white",
            "gridwidth": 2,
            "linecolor": "white",
            "showbackground": true,
            "ticks": "",
            "zerolinecolor": "white"
           },
           "yaxis": {
            "backgroundcolor": "#E5ECF6",
            "gridcolor": "white",
            "gridwidth": 2,
            "linecolor": "white",
            "showbackground": true,
            "ticks": "",
            "zerolinecolor": "white"
           },
           "zaxis": {
            "backgroundcolor": "#E5ECF6",
            "gridcolor": "white",
            "gridwidth": 2,
            "linecolor": "white",
            "showbackground": true,
            "ticks": "",
            "zerolinecolor": "white"
           }
          },
          "shapedefaults": {
           "line": {
            "color": "#2a3f5f"
           }
          },
          "ternary": {
           "aaxis": {
            "gridcolor": "white",
            "linecolor": "white",
            "ticks": ""
           },
           "baxis": {
            "gridcolor": "white",
            "linecolor": "white",
            "ticks": ""
           },
           "bgcolor": "#E5ECF6",
           "caxis": {
            "gridcolor": "white",
            "linecolor": "white",
            "ticks": ""
           }
          },
          "title": {
           "x": 0.05
          },
          "xaxis": {
           "automargin": true,
           "gridcolor": "white",
           "linecolor": "white",
           "ticks": "",
           "title": {
            "standoff": 15
           },
           "zerolinecolor": "white",
           "zerolinewidth": 2
          },
          "yaxis": {
           "automargin": true,
           "gridcolor": "white",
           "linecolor": "white",
           "ticks": "",
           "title": {
            "standoff": 15
           },
           "zerolinecolor": "white",
           "zerolinewidth": 2
          }
         }
        },
        "title": {
         "text": "Loss Landscape at Random Initialization"
        }
       }
      }
     },
     "metadata": {},
     "output_type": "display_data"
    },
    {
     "name": "stdout",
     "output_type": "stream",
     "text": [
      "\n",
      "==================================================\n",
      "Training model, then visualizing landscape around TRAINED MINIMUM\n",
      "==================================================\n",
      "Training for 30 epochs...\n",
      "  Epoch 0: Loss = 2.1893\n",
      "  Epoch 10: Loss = 0.6757\n",
      "  Epoch 20: Loss = 0.4243\n",
      "Training complete!\n",
      "Using filter normalization (Li et al. 2018)...\n",
      "Direction norms: d1=7.146, d2=7.146\n",
      "Parameter norm: 4.262\n",
      "Computing loss landscape (51x51 grid, scale=1.0)...\n",
      "Actual parameter perturbation range: [-7.146, 7.146]\n",
      "  Progress: 0/51\n",
      "  Progress: 10/51\n",
      "  Progress: 20/51\n",
      "  Progress: 30/51\n",
      "  Progress: 40/51\n",
      "  Progress: 50/51\n",
      "  Raw loss range: [0.255, 6.620]\n",
      "  Applying Gaussian smoothing (sigma=0.9)...\n",
      "  Smoothed loss range: [0.305, 6.373]\n"
     ]
    },
    {
     "data": {
      "application/vnd.plotly.v1+json": {
       "config": {
        "plotlyServerURL": "https://plot.ly"
       },
       "data": [
        {
         "colorbar": {
          "title": {
           "text": "Loss"
          },
          "x": 1.2
         },
         "colorscale": [
          [
           0,
           "#440154"
          ],
          [
           0.1111111111111111,
           "#482878"
          ],
          [
           0.2222222222222222,
           "#3e4989"
          ],
          [
           0.3333333333333333,
           "#31688e"
          ],
          [
           0.4444444444444444,
           "#26828e"
          ],
          [
           0.5555555555555556,
           "#1f9e89"
          ],
          [
           0.6666666666666666,
           "#35b779"
          ],
          [
           0.7777777777777778,
           "#6ece58"
          ],
          [
           0.8888888888888888,
           "#b5de2b"
          ],
          [
           1,
           "#fde725"
          ]
         ],
         "contours": {
          "z": {
           "project": {
            "z": true
           },
           "show": true,
           "usecolormap": true,
           "width": 2
          }
         },
         "opacity": 0.9,
         "type": "surface",
         "x": {
          "bdata": "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",
          "dtype": "f8",
          "shape": "51, 51"
         },
         "y": {
          "bdata": "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",
          "dtype": "f8",
          "shape": "51, 51"
         },
         "z": {
          "bdata": "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",
          "dtype": "f8",
          "shape": "51, 51"
         }
        },
        {
         "marker": {
          "color": "red",
          "size": 8,
          "symbol": "diamond"
         },
         "mode": "markers",
         "name": "Center Point",
         "type": "scatter3d",
         "x": [
          0
         ],
         "y": [
          0
         ],
         "z": [
          0.3255202797882929
         ]
        }
       ],
       "layout": {
        "height": 700,
        "scene": {
         "aspectmode": "manual",
         "aspectratio": {
          "x": 1,
          "y": 1,
          "z": 0.5
         },
         "camera": {
          "eye": {
           "x": 1.5,
           "y": 1.5,
           "z": 1.3
          }
         },
         "xaxis": {
          "title": {
           "text": "Random Direction 1 (filter normalized)"
          }
         },
         "yaxis": {
          "title": {
           "text": "Random Direction 2 (filter normalized)"
          }
         },
         "zaxis": {
          "title": {
           "text": "Loss"
          }
         }
        },
        "showlegend": true,
        "template": {
         "data": {
          "bar": [
           {
            "error_x": {
             "color": "#2a3f5f"
            },
            "error_y": {
             "color": "#2a3f5f"
            },
            "marker": {
             "line": {
              "color": "#E5ECF6",
              "width": 0.5
             },
             "pattern": {
              "fillmode": "overlay",
              "size": 10,
              "solidity": 0.2
             }
            },
            "type": "bar"
           }
          ],
          "barpolar": [
           {
            "marker": {
             "line": {
              "color": "#E5ECF6",
              "width": 0.5
             },
             "pattern": {
              "fillmode": "overlay",
              "size": 10,
              "solidity": 0.2
             }
            },
            "type": "barpolar"
           }
          ],
          "carpet": [
           {
            "aaxis": {
             "endlinecolor": "#2a3f5f",
             "gridcolor": "white",
             "linecolor": "white",
             "minorgridcolor": "white",
             "startlinecolor": "#2a3f5f"
            },
            "baxis": {
             "endlinecolor": "#2a3f5f",
             "gridcolor": "white",
             "linecolor": "white",
             "minorgridcolor": "white",
             "startlinecolor": "#2a3f5f"
            },
            "type": "carpet"
           }
          ],
          "choropleth": [
           {
            "colorbar": {
             "outlinewidth": 0,
             "ticks": ""
            },
            "type": "choropleth"
           }
          ],
          "contour": [
           {
            "colorbar": {
             "outlinewidth": 0,
             "ticks": ""
            },
            "colorscale": [
             [
              0,
              "#0d0887"
             ],
             [
              0.1111111111111111,
              "#46039f"
             ],
             [
              0.2222222222222222,
              "#7201a8"
             ],
             [
              0.3333333333333333,
              "#9c179e"
             ],
             [
              0.4444444444444444,
              "#bd3786"
             ],
             [
              0.5555555555555556,
              "#d8576b"
             ],
             [
              0.6666666666666666,
              "#ed7953"
             ],
             [
              0.7777777777777778,
              "#fb9f3a"
             ],
             [
              0.8888888888888888,
              "#fdca26"
             ],
             [
              1,
              "#f0f921"
             ]
            ],
            "type": "contour"
           }
          ],
          "contourcarpet": [
           {
            "colorbar": {
             "outlinewidth": 0,
             "ticks": ""
            },
            "type": "contourcarpet"
           }
          ],
          "heatmap": [
           {
            "colorbar": {
             "outlinewidth": 0,
             "ticks": ""
            },
            "colorscale": [
             [
              0,
              "#0d0887"
             ],
             [
              0.1111111111111111,
              "#46039f"
             ],
             [
              0.2222222222222222,
              "#7201a8"
             ],
             [
              0.3333333333333333,
              "#9c179e"
             ],
             [
              0.4444444444444444,
              "#bd3786"
             ],
             [
              0.5555555555555556,
              "#d8576b"
             ],
             [
              0.6666666666666666,
              "#ed7953"
             ],
             [
              0.7777777777777778,
              "#fb9f3a"
             ],
             [
              0.8888888888888888,
              "#fdca26"
             ],
             [
              1,
              "#f0f921"
             ]
            ],
            "type": "heatmap"
           }
          ],
          "histogram": [
           {
            "marker": {
             "pattern": {
              "fillmode": "overlay",
              "size": 10,
              "solidity": 0.2
             }
            },
            "type": "histogram"
           }
          ],
          "histogram2d": [
           {
            "colorbar": {
             "outlinewidth": 0,
             "ticks": ""
            },
            "colorscale": [
             [
              0,
              "#0d0887"
             ],
             [
              0.1111111111111111,
              "#46039f"
             ],
             [
              0.2222222222222222,
              "#7201a8"
             ],
             [
              0.3333333333333333,
              "#9c179e"
             ],
             [
              0.4444444444444444,
              "#bd3786"
             ],
             [
              0.5555555555555556,
              "#d8576b"
             ],
             [
              0.6666666666666666,
              "#ed7953"
             ],
             [
              0.7777777777777778,
              "#fb9f3a"
             ],
             [
              0.8888888888888888,
              "#fdca26"
             ],
             [
              1,
              "#f0f921"
             ]
            ],
            "type": "histogram2d"
           }
          ],
          "histogram2dcontour": [
           {
            "colorbar": {
             "outlinewidth": 0,
             "ticks": ""
            },
            "colorscale": [
             [
              0,
              "#0d0887"
             ],
             [
              0.1111111111111111,
              "#46039f"
             ],
             [
              0.2222222222222222,
              "#7201a8"
             ],
             [
              0.3333333333333333,
              "#9c179e"
             ],
             [
              0.4444444444444444,
              "#bd3786"
             ],
             [
              0.5555555555555556,
              "#d8576b"
             ],
             [
              0.6666666666666666,
              "#ed7953"
             ],
             [
              0.7777777777777778,
              "#fb9f3a"
             ],
             [
              0.8888888888888888,
              "#fdca26"
             ],
             [
              1,
              "#f0f921"
             ]
            ],
            "type": "histogram2dcontour"
           }
          ],
          "mesh3d": [
           {
            "colorbar": {
             "outlinewidth": 0,
             "ticks": ""
            },
            "type": "mesh3d"
           }
          ],
          "parcoords": [
           {
            "line": {
             "colorbar": {
              "outlinewidth": 0,
              "ticks": ""
             }
            },
            "type": "parcoords"
           }
          ],
          "pie": [
           {
            "automargin": true,
            "type": "pie"
           }
          ],
          "scatter": [
           {
            "fillpattern": {
             "fillmode": "overlay",
             "size": 10,
             "solidity": 0.2
            },
            "type": "scatter"
           }
          ],
          "scatter3d": [
           {
            "line": {
             "colorbar": {
              "outlinewidth": 0,
              "ticks": ""
             }
            },
            "marker": {
             "colorbar": {
              "outlinewidth": 0,
              "ticks": ""
             }
            },
            "type": "scatter3d"
           }
          ],
          "scattercarpet": [
           {
            "marker": {
             "colorbar": {
              "outlinewidth": 0,
              "ticks": ""
             }
            },
            "type": "scattercarpet"
           }
          ],
          "scattergeo": [
           {
            "marker": {
             "colorbar": {
              "outlinewidth": 0,
              "ticks": ""
             }
            },
            "type": "scattergeo"
           }
          ],
          "scattergl": [
           {
            "marker": {
             "colorbar": {
              "outlinewidth": 0,
              "ticks": ""
             }
            },
            "type": "scattergl"
           }
          ],
          "scattermap": [
           {
            "marker": {
             "colorbar": {
              "outlinewidth": 0,
              "ticks": ""
             }
            },
            "type": "scattermap"
           }
          ],
          "scattermapbox": [
           {
            "marker": {
             "colorbar": {
              "outlinewidth": 0,
              "ticks": ""
             }
            },
            "type": "scattermapbox"
           }
          ],
          "scatterpolar": [
           {
            "marker": {
             "colorbar": {
              "outlinewidth": 0,
              "ticks": ""
             }
            },
            "type": "scatterpolar"
           }
          ],
          "scatterpolargl": [
           {
            "marker": {
             "colorbar": {
              "outlinewidth": 0,
              "ticks": ""
             }
            },
            "type": "scatterpolargl"
           }
          ],
          "scatterternary": [
           {
            "marker": {
             "colorbar": {
              "outlinewidth": 0,
              "ticks": ""
             }
            },
            "type": "scatterternary"
           }
          ],
          "surface": [
           {
            "colorbar": {
             "outlinewidth": 0,
             "ticks": ""
            },
            "colorscale": [
             [
              0,
              "#0d0887"
             ],
             [
              0.1111111111111111,
              "#46039f"
             ],
             [
              0.2222222222222222,
              "#7201a8"
             ],
             [
              0.3333333333333333,
              "#9c179e"
             ],
             [
              0.4444444444444444,
              "#bd3786"
             ],
             [
              0.5555555555555556,
              "#d8576b"
             ],
             [
              0.6666666666666666,
              "#ed7953"
             ],
             [
              0.7777777777777778,
              "#fb9f3a"
             ],
             [
              0.8888888888888888,
              "#fdca26"
             ],
             [
              1,
              "#f0f921"
             ]
            ],
            "type": "surface"
           }
          ],
          "table": [
           {
            "cells": {
             "fill": {
              "color": "#EBF0F8"
             },
             "line": {
              "color": "white"
             }
            },
            "header": {
             "fill": {
              "color": "#C8D4E3"
             },
             "line": {
              "color": "white"
             }
            },
            "type": "table"
           }
          ]
         },
         "layout": {
          "annotationdefaults": {
           "arrowcolor": "#2a3f5f",
           "arrowhead": 0,
           "arrowwidth": 1
          },
          "autotypenumbers": "strict",
          "coloraxis": {
           "colorbar": {
            "outlinewidth": 0,
            "ticks": ""
           }
          },
          "colorscale": {
           "diverging": [
            [
             0,
             "#8e0152"
            ],
            [
             0.1,
             "#c51b7d"
            ],
            [
             0.2,
             "#de77ae"
            ],
            [
             0.3,
             "#f1b6da"
            ],
            [
             0.4,
             "#fde0ef"
            ],
            [
             0.5,
             "#f7f7f7"
            ],
            [
             0.6,
             "#e6f5d0"
            ],
            [
             0.7,
             "#b8e186"
            ],
            [
             0.8,
             "#7fbc41"
            ],
            [
             0.9,
             "#4d9221"
            ],
            [
             1,
             "#276419"
            ]
           ],
           "sequential": [
            [
             0,
             "#0d0887"
            ],
            [
             0.1111111111111111,
             "#46039f"
            ],
            [
             0.2222222222222222,
             "#7201a8"
            ],
            [
             0.3333333333333333,
             "#9c179e"
            ],
            [
             0.4444444444444444,
             "#bd3786"
            ],
            [
             0.5555555555555556,
             "#d8576b"
            ],
            [
             0.6666666666666666,
             "#ed7953"
            ],
            [
             0.7777777777777778,
             "#fb9f3a"
            ],
            [
             0.8888888888888888,
             "#fdca26"
            ],
            [
             1,
             "#f0f921"
            ]
           ],
           "sequentialminus": [
            [
             0,
             "#0d0887"
            ],
            [
             0.1111111111111111,
             "#46039f"
            ],
            [
             0.2222222222222222,
             "#7201a8"
            ],
            [
             0.3333333333333333,
             "#9c179e"
            ],
            [
             0.4444444444444444,
             "#bd3786"
            ],
            [
             0.5555555555555556,
             "#d8576b"
            ],
            [
             0.6666666666666666,
             "#ed7953"
            ],
            [
             0.7777777777777778,
             "#fb9f3a"
            ],
            [
             0.8888888888888888,
             "#fdca26"
            ],
            [
             1,
             "#f0f921"
            ]
           ]
          },
          "colorway": [
           "#636efa",
           "#EF553B",
           "#00cc96",
           "#ab63fa",
           "#FFA15A",
           "#19d3f3",
           "#FF6692",
           "#B6E880",
           "#FF97FF",
           "#FECB52"
          ],
          "font": {
           "color": "#2a3f5f"
          },
          "geo": {
           "bgcolor": "white",
           "lakecolor": "white",
           "landcolor": "#E5ECF6",
           "showlakes": true,
           "showland": true,
           "subunitcolor": "white"
          },
          "hoverlabel": {
           "align": "left"
          },
          "hovermode": "closest",
          "mapbox": {
           "style": "light"
          },
          "paper_bgcolor": "white",
          "plot_bgcolor": "#E5ECF6",
          "polar": {
           "angularaxis": {
            "gridcolor": "white",
            "linecolor": "white",
            "ticks": ""
           },
           "bgcolor": "#E5ECF6",
           "radialaxis": {
            "gridcolor": "white",
            "linecolor": "white",
            "ticks": ""
           }
          },
          "scene": {
           "xaxis": {
            "backgroundcolor": "#E5ECF6",
            "gridcolor": "white",
            "gridwidth": 2,
            "linecolor": "white",
            "showbackground": true,
            "ticks": "",
            "zerolinecolor": "white"
           },
           "yaxis": {
            "backgroundcolor": "#E5ECF6",
            "gridcolor": "white",
            "gridwidth": 2,
            "linecolor": "white",
            "showbackground": true,
            "ticks": "",
            "zerolinecolor": "white"
           },
           "zaxis": {
            "backgroundcolor": "#E5ECF6",
            "gridcolor": "white",
            "gridwidth": 2,
            "linecolor": "white",
            "showbackground": true,
            "ticks": "",
            "zerolinecolor": "white"
           }
          },
          "shapedefaults": {
           "line": {
            "color": "#2a3f5f"
           }
          },
          "ternary": {
           "aaxis": {
            "gridcolor": "white",
            "linecolor": "white",
            "ticks": ""
           },
           "baxis": {
            "gridcolor": "white",
            "linecolor": "white",
            "ticks": ""
           },
           "bgcolor": "#E5ECF6",
           "caxis": {
            "gridcolor": "white",
            "linecolor": "white",
            "ticks": ""
           }
          },
          "title": {
           "x": 0.05
          },
          "xaxis": {
           "automargin": true,
           "gridcolor": "white",
           "linecolor": "white",
           "ticks": "",
           "title": {
            "standoff": 15
           },
           "zerolinecolor": "white",
           "zerolinewidth": 2
          },
          "yaxis": {
           "automargin": true,
           "gridcolor": "white",
           "linecolor": "white",
           "ticks": "",
           "title": {
            "standoff": 15
           },
           "zerolinecolor": "white",
           "zerolinewidth": 2
          }
         }
        },
        "title": {
         "text": "Loss Landscape around Trained Minimum"
        }
       }
      }
     },
     "metadata": {},
     "output_type": "display_data"
    },
    {
     "name": "stdout",
     "output_type": "stream",
     "text": [
      "\n",
      "==================================================\n",
      "LANDSCAPE STATISTICS\n",
      "==================================================\n",
      "At initialization:\n",
      "  Loss range: [2.312, 3.789]\n",
      "  Center loss: 2.322\n",
      "\n",
      "After training:\n",
      "  Loss range: [0.305, 6.373]\n",
      "  Center loss: 0.326\n"
     ]
    }
   ],
   "source": [
    "# Load MNIST data\n",
    "print(\"Loading MNIST dataset...\")\n",
    "train_loader = load_mnist(train_samples=1000, batch_size=64)\n",
    "\n",
    "# Create model\n",
    "model = SimpleNet()\n",
    "\n",
    "# Option 1: Visualize landscape at random initialization\n",
    "print(\"\\n\" + \"=\"*50)\n",
    "print(\"Visualizing loss landscape at RANDOM INITIALIZATION\")\n",
    "print(\"=\"*50)\n",
    "Alpha_init, Beta_init, Loss_init = compute_loss_landscape(\n",
    "    model, train_loader, resolution=51, scale=1.0, use_filter_norm=True, smoothing=0.9, scale_multiplier=1.0\n",
    ")\n",
    "\n",
    "fig_init = visualize_loss_landscape(\n",
    "    Alpha_init, Beta_init, Loss_init,\n",
    "    title=\"Loss Landscape at Random Initialization\"\n",
    ")\n",
    "fig_init.show()\n",
    "\n",
    "# Option 2: Train model then visualize landscape around trained minimum\n",
    "print(\"\\n\" + \"=\"*50)\n",
    "print(\"Training model, then visualizing landscape around TRAINED MINIMUM\")\n",
    "print(\"=\"*50)\n",
    "\n",
    "model = train_model(model, train_loader, epochs=30, lr=0.01)\n",
    "\n",
    "Alpha_trained, Beta_trained, Loss_trained = compute_loss_landscape(\n",
    "    model, train_loader, resolution=51, scale=1.0, use_filter_norm=True, smoothing=0.9, scale_multiplier=1.0\n",
    ")\n",
    "\n",
    "fig_trained = visualize_loss_landscape(\n",
    "    Alpha_trained, Beta_trained, Loss_trained,\n",
    "    title=\"Loss Landscape around Trained Minimum\"\n",
    ")\n",
    "fig_trained.show()\n",
    "\n",
    "# Print some statistics\n",
    "print(\"\\n\" + \"=\"*50)\n",
    "print(\"LANDSCAPE STATISTICS\")\n",
    "print(\"=\"*50)\n",
    "print(f\"At initialization:\")\n",
    "print(f\"  Loss range: [{Loss_init.min():.3f}, {Loss_init.max():.3f}]\")\n",
    "print(f\"  Center loss: {Loss_init[len(Loss_init)//2, len(Loss_init[0])//2]:.3f}\")\n",
    "\n",
    "print(f\"\\nAfter training:\")\n",
    "print(f\"  Loss range: [{Loss_trained.min():.3f}, {Loss_trained.max():.3f}]\")\n",
    "print(f\"  Center loss: {Loss_trained[len(Loss_trained)//2, len(Loss_trained[0])//2]:.3f}\")"
   ]
  }
 ],
 "metadata": {
  "kernelspec": {
   "display_name": "blog-code-examples",
   "language": "python",
   "name": "python3"
  },
  "language_info": {
   "codemirror_mode": {
    "name": "ipython",
    "version": 3
   },
   "file_extension": ".py",
   "mimetype": "text/x-python",
   "name": "python",
   "nbconvert_exporter": "python",
   "pygments_lexer": "ipython3",
   "version": "3.12.11"
  }
 },
 "nbformat": 4,
 "nbformat_minor": 5
}
